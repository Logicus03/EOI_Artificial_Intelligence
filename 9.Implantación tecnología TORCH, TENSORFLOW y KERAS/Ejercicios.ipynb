{
 "cells": [
  {
   "cell_type": "markdown",
   "metadata": {},
   "source": [
    "### MODELO 1"
   ]
  },
  {
   "cell_type": "markdown",
   "metadata": {},
   "source": [
    "Realizar una red convolucional de 3 capas, con dropout y max pooling utilizando la librería de\n",
    "PyTorch para clasificar números escritos a mano del dataset MNIST\n",
    "\n",
    "Calcular la precisión del modelo presentado e intentar que sea > 0.85\n",
    "\n",
    "##### TODO:\n",
    "\n",
    "1. Load and normalizing the MNIST training and test datasets using torchvision\n",
    "2. Define a Convolutional Neural Network\n",
    "3. Define a loss function\n",
    "4. Train the network on the training data\n",
    "5. Test the network on the test data\n"
   ]
  },
  {
   "cell_type": "code",
   "execution_count": 1,
   "metadata": {},
   "outputs": [],
   "source": [
    "# Importando módulos de Pytorch\n",
    "import torch\n",
    "import torchvision\n",
    "import torchvision.transforms as transforms\n",
    "\n",
    "# -- Pytorch MNIST Dataset\n",
    "from torchvision.datasets import MNIST\n",
    "\n",
    "# -- DataLoader\n",
    "from torch.utils.data import DataLoader\n",
    "\n",
    "# -- Pytorch Neural network modules\n",
    "import torch.nn as nn\n",
    "import torch.nn.functional as F\n",
    "\n",
    "# -- Pytorch Optim\n",
    "import torch.optim as optim\n",
    "\n",
    "# Importando módulos de visualización de datos\n",
    "import matplotlib.pyplot as plt\n",
    "\n"
   ]
  },
  {
   "cell_type": "markdown",
   "metadata": {},
   "source": [
    "1. Load and normalizing the MNIST training and test datasets using torchvision"
   ]
  },
  {
   "cell_type": "code",
   "execution_count": 2,
   "metadata": {},
   "outputs": [],
   "source": [
    "# Transforming the data\n",
    "transform = transforms.Compose([\n",
    "    transforms.ToTensor(),\n",
    "    transforms.Normalize((0.5,), (0.5,))\n",
    "    ])\n",
    "\n",
    "batch_size = 10\n",
    "root_dir = './data/mnist'\n",
    "\n",
    "trainset = MNIST(root=root_dir, train=True, download=True, transform=transform)\n",
    "trainloader = DataLoader(trainset, batch_size=batch_size, shuffle=True, num_workers=2)\n",
    "\n",
    "testset = MNIST(root=root_dir, train=False, download=True, transform=transform)\n",
    "testloader = DataLoader(testset, batch_size=batch_size, shuffle=False, num_workers=2)\n"
   ]
  },
  {
   "cell_type": "markdown",
   "metadata": {},
   "source": [
    "2. Define a Convolutional Neural Network (To fullfil the assign, This neural network should be 3-layer neural network)"
   ]
  },
  {
   "cell_type": "code",
   "execution_count": 3,
   "metadata": {},
   "outputs": [],
   "source": [
    "class Net(nn.Module):\n",
    "    def __init__(self):\n",
    "        super(Net, self).__init__()\n",
    "        \n",
    "        self.conv1 = nn.Conv2d(1, 10, kernel_size = 5)        \n",
    "        self.conv2 = nn.Conv2d(10, 20, kernel_size = 5)\n",
    "        self.pool = nn.MaxPool2d(2, 2)\n",
    "        \n",
    "        self.dropout = nn.Dropout2d(0.5)\n",
    "        \n",
    "        self.fc1 = nn.Linear( 320 , 120)\n",
    "        self.fc2 = nn.Linear(120, 50)\n",
    "        self.fc3 = nn.Linear(50, 10)\n",
    "\n",
    "    def forward(self, x):\n",
    "        \n",
    "        # input is 28x28x1\n",
    "        # conv1(kernel=5, filters=10) 28x28x10 -> 24x24x10\n",
    "        # max_pool(kernel=2) 24x24x10 -> 12x12x10\n",
    "        x = self.conv1(x)\n",
    "        x = self.pool(x)\n",
    "        x = F.relu(x)\n",
    "        \n",
    "        # conv2(kernel=5, filters=20) 12x12x20 -> 8x8x20\n",
    "        # max_pool(kernel=2) 8x8x20 -> 4x4x20\n",
    "        x = self.conv2(x)\n",
    "#         x = F.dropout\n",
    "        x = self.dropout(x)\n",
    "        x = self.pool(x)\n",
    "        x = F.relu(x)\n",
    "        \n",
    "        # flatten 4x4x20 = 320\n",
    "        x = x.view(-1, 320)\n",
    "        \n",
    "        # 320 -> 120\n",
    "        x = F.relu(self.fc1(x))\n",
    "#         x = F.dropout(x, training=self.training)\n",
    "        \n",
    "        # 120 -> 50\n",
    "        x = F.relu(self.fc2(x))\n",
    "        x = F.dropout(x, training=self.training)\n",
    "        \n",
    "        # 50 -> 10\n",
    "        x = self.fc3(x)\n",
    "        \n",
    "        # transform to logits\n",
    "        return F.log_softmax(x)\n",
    "\n",
    "net = Net()\n"
   ]
  },
  {
   "cell_type": "markdown",
   "metadata": {},
   "source": [
    "3. Define a loss function"
   ]
  },
  {
   "cell_type": "code",
   "execution_count": 4,
   "metadata": {},
   "outputs": [],
   "source": [
    "# Perdida del modelo\n",
    "criterion = nn.CrossEntropyLoss()\n",
    "optimizer = optim.SGD(net.parameters(), lr=0.001, momentum=0.9)"
   ]
  },
  {
   "cell_type": "markdown",
   "metadata": {},
   "source": [
    "4. Train the network on the training data"
   ]
  },
  {
   "cell_type": "code",
   "execution_count": 5,
   "metadata": {},
   "outputs": [
    {
     "name": "stderr",
     "output_type": "stream",
     "text": [
      "C:\\Users\\dev\\anaconda\\envs\\Pytorch\\lib\\site-packages\\ipykernel_launcher.py:47: UserWarning: Implicit dimension choice for log_softmax has been deprecated. Change the call to include dim=X as an argument.\n"
     ]
    },
    {
     "name": "stdout",
     "output_type": "stream",
     "text": [
      "[1,  2000] loss: 0.513, accuracy: 0.487\n",
      "[2,  2000] loss: 0.090, accuracy: 0.910\n",
      "Finished Training with 6000 cases\n"
     ]
    }
   ],
   "source": [
    "# Los batch_sizes influyen en el loss y el accuracy\n",
    "\n",
    "for epoch in range(2):  # loop over the dataset multiple times\n",
    "\n",
    "    running_loss = 0.0\n",
    "    \n",
    "    dt_len = len(trainloader)\n",
    "    i = 0\n",
    "    \n",
    "    for data, target in trainloader:\n",
    "        # get the inputs\n",
    "        \n",
    "        inputs, labels = data, target\n",
    "\n",
    "        # zero the parameter gradients\n",
    "        optimizer.zero_grad()\n",
    "\n",
    "        # forward + backward + optimize\n",
    "        outputs = net(inputs)\n",
    "        loss = criterion(outputs, labels)\n",
    "        loss.backward()\n",
    "        optimizer.step()\n",
    "\n",
    "        # print statistics\n",
    "        running_loss += loss.item()\n",
    "        if i % dt_len == 1999: \n",
    "            rl = running_loss / dt_len\n",
    "            print('[%d, %5d] loss: %.3f, accuracy: %.3f' %\n",
    "                  (epoch + 1, i + 1, rl, 1 - rl))\n",
    "            running_loss = 0.0\n",
    "        \n",
    "        i += 1\n",
    "        \n",
    "print('Finished Training with %d cases' % dt_len )"
   ]
  },
  {
   "cell_type": "markdown",
   "metadata": {},
   "source": [
    "5. Test the network on the test data"
   ]
  },
  {
   "cell_type": "code",
   "execution_count": 6,
   "metadata": {},
   "outputs": [
    {
     "data": {
      "image/png": "[encoded data removed]",
      "text/plain": [
       "<Figure size 576x216 with 10 Axes>"
      ]
     },
     "metadata": {},
     "output_type": "display_data"
    }
   ],
   "source": [
    "examples = enumerate(testloader)\n",
    "batch_idx, (example_data, example_targets) = next(examples)\n",
    "\n",
    "fig = plt.figure(figsize=(8,3))\n",
    "for i in range( len(example_data) ):\n",
    "    ax = fig.add_subplot(2, 5, 1 + i, xticks=[], yticks=[])\n",
    "    plt.imshow(example_data[i][0], cmap='gray', interpolation='none')\n",
    "    title = \"Truth: {}\".format(example_targets[i])\n",
    "    ax.set_title(title)\n",
    "plt.show()\n"
   ]
  },
  {
   "cell_type": "code",
   "execution_count": 7,
   "metadata": {},
   "outputs": [
    {
     "name": "stderr",
     "output_type": "stream",
     "text": [
      "C:\\Users\\dev\\anaconda\\envs\\Pytorch\\lib\\site-packages\\ipykernel_launcher.py:47: UserWarning: Implicit dimension choice for log_softmax has been deprecated. Change the call to include dim=X as an argument.\n"
     ]
    }
   ],
   "source": [
    "# Predict\n",
    "outputs = net(example_data)"
   ]
  },
  {
   "cell_type": "code",
   "execution_count": 8,
   "metadata": {},
   "outputs": [
    {
     "name": "stdout",
     "output_type": "stream",
     "text": [
      "Predicted:      7     2     1     0     4     1     4     9     5     9\n"
     ]
    }
   ],
   "source": [
    "_, predicted = torch.max(outputs, 1)\n",
    "\n",
    "classes = range(0, 10)\n",
    "print('Predicted: ', ' '.join('%5s' % classes[predicted[j]]\n",
    "                              for j in range(10)))"
   ]
  },
  {
   "cell_type": "code",
   "execution_count": 9,
   "metadata": {},
   "outputs": [
    {
     "name": "stderr",
     "output_type": "stream",
     "text": [
      "C:\\Users\\dev\\anaconda\\envs\\Pytorch\\lib\\site-packages\\ipykernel_launcher.py:47: UserWarning: Implicit dimension choice for log_softmax has been deprecated. Change the call to include dim=X as an argument.\n"
     ]
    },
    {
     "name": "stdout",
     "output_type": "stream",
     "text": [
      "Accuracy of the network on the 10000 test images: 95 %\n"
     ]
    }
   ],
   "source": [
    "correct = 0\n",
    "total = 0\n",
    "with torch.no_grad():\n",
    "    for data in testloader:\n",
    "        images, labels = data\n",
    "        outputs = net(images)\n",
    "        _, predicted = torch.max(outputs.data, 1)\n",
    "        total += labels.size(0)\n",
    "        correct += (predicted == labels).sum().item()\n",
    "\n",
    "print('Accuracy of the network on the 10000 test images: %d %%' % (\n",
    "    100 * correct / total))"
   ]
  },
  {
   "cell_type": "code",
   "execution_count": 10,
   "metadata": {},
   "outputs": [
    {
     "name": "stderr",
     "output_type": "stream",
     "text": [
      "C:\\Users\\dev\\anaconda\\envs\\Pytorch\\lib\\site-packages\\ipykernel_launcher.py:47: UserWarning: Implicit dimension choice for log_softmax has been deprecated. Change the call to include dim=X as an argument.\n"
     ]
    },
    {
     "name": "stdout",
     "output_type": "stream",
     "text": [
      "Accuracy of     0 : 98 %\n",
      "Accuracy of     1 : 98 %\n",
      "Accuracy of     2 : 93 %\n",
      "Accuracy of     3 : 95 %\n",
      "Accuracy of     4 : 95 %\n",
      "Accuracy of     5 : 91 %\n",
      "Accuracy of     6 : 96 %\n",
      "Accuracy of     7 : 93 %\n",
      "Accuracy of     8 : 91 %\n",
      "Accuracy of     9 : 93 %\n"
     ]
    }
   ],
   "source": [
    "class_correct = list(0. for i in range(10))\n",
    "class_total = list(0. for i in range(10))\n",
    "with torch.no_grad():\n",
    "    for data in testloader:\n",
    "        images, labels = data\n",
    "        outputs = net(images)\n",
    "        _, predicted = torch.max(outputs, 1)\n",
    "        c = (predicted == labels).squeeze()\n",
    "        for i in range(4):\n",
    "            label = labels[i]\n",
    "            class_correct[label] += c[i].item()\n",
    "            class_total[label] += 1\n",
    "\n",
    "\n",
    "for i in range(10):\n",
    "    print('Accuracy of %5s : %2d %%' % (\n",
    "        classes[i], 100 * class_correct[i] / class_total[i]))"
   ]
  },
  {
   "cell_type": "markdown",
   "metadata": {},
   "source": [
    "### MODELO 2"
   ]
  },
  {
   "cell_type": "markdown",
   "metadata": {},
   "source": [
    "Realizar una red convolucional de 3 capas, con dropout y max pooling utilizando la librería de\n",
    "Tensorflow para clasificar imágenes del dataset CIFAR10\n",
    "\n",
    "Calcular la precisión del modelo presentado e intentar que sea > 0.35"
   ]
  },
  {
   "cell_type": "markdown",
   "metadata": {},
   "source": [
    "![CNN](http://personal.ie.cuhk.edu.hk/~ccloy/project_target_code/images/fig3.png)"
   ]
  },
  {
   "cell_type": "code",
   "execution_count": 1,
   "metadata": {},
   "outputs": [],
   "source": [
    "# Importing basic libraries\n",
    "from __future__ import absolute_import, division, print_function\n",
    "import numpy as np\n",
    "import matplotlib.pyplot as plt\n",
    "\n",
    "# Importing TensorFlow libraries\n",
    "import tensorflow as tf\n",
    "import tensorflow.keras.datasets.cifar10 as tf_cifar\n",
    "import tensorflow.keras.utils as np_utils"
   ]
  },
  {
   "cell_type": "code",
   "execution_count": 2,
   "metadata": {},
   "outputs": [],
   "source": [
    "(x_train, y_train), (x_test, y_test) = tf_cifar.load_data()"
   ]
  },
  {
   "cell_type": "code",
   "execution_count": 3,
   "metadata": {},
   "outputs": [],
   "source": [
    "# Informaciones de la Data\n",
    "class_names = ['airplane', 'automobile', 'bird', 'cat', 'deer', 'dog', 'frog', 'horse', 'ship', 'truck']\n",
    "num_train, img_channels, img_rows, img_cols =  x_train.shape\n",
    "num_classes = len(np.unique(y_train)) # 10 "
   ]
  },
  {
   "cell_type": "code",
   "execution_count": 4,
   "metadata": {},
   "outputs": [
    {
     "data": {
      "image/png": "[encoded data removed]",
      "text/plain": [
       "<Figure size 576x216 with 10 Axes>"
      ]
     },
     "metadata": {},
     "output_type": "display_data"
    }
   ],
   "source": [
    "# Print samples\n",
    "fig = plt.figure(figsize=(8,3))\n",
    "for i in range(num_classes):\n",
    "    ax = fig.add_subplot(2, 5, 1 + i, xticks=[], yticks=[])\n",
    "    idx = np.where(y_train[:]==i)[0]\n",
    "    features_idx = x_train[idx,::]\n",
    "    img_num = np.random.randint(features_idx.shape[0])\n",
    "    im = np.reshape(features_idx[img_num,::], [32,32,3])\n",
    "    ax.set_title(class_names[i])\n",
    "    plt.imshow(im)\n",
    "plt.show()\n"
   ]
  },
  {
   "cell_type": "markdown",
   "metadata": {},
   "source": [
    "## Red Neuronal Convolucional"
   ]
  },
  {
   "cell_type": "code",
   "execution_count": 5,
   "metadata": {},
   "outputs": [],
   "source": [
    "# Network Configuration Params\n",
    "batch_size = 128\n",
    "learning_rate = 0.001\n",
    "num_steps = 1000\n",
    "dropout = 0.25"
   ]
  },
  {
   "cell_type": "markdown",
   "metadata": {},
   "source": [
    "### Tratamiento de la información"
   ]
  },
  {
   "cell_type": "code",
   "execution_count": 6,
   "metadata": {},
   "outputs": [],
   "source": [
    "x_train, x_test = x_train / 255.0, x_test / 255.0\n",
    "\n",
    "y_train = y_train.flatten()\n",
    "y_test = y_test.flatten()\n"
   ]
  },
  {
   "cell_type": "code",
   "execution_count": 7,
   "metadata": {},
   "outputs": [],
   "source": [
    "# Creamos la red neuronal de tres capas\n",
    "def conv_net(x_dict, n_classes, dropout, reuse, is_training):\n",
    "\n",
    "    with tf.variable_scope('ConvNet', reuse = reuse):\n",
    "        \n",
    "        x = tf.reshape(x_dict[\"images\"], shape=[-1, 32, 32, 3])\n",
    "           \n",
    "        # Conv1\n",
    "        conv1 = tf.layers.conv2d(inputs=x, filters=32, kernel_size=[3,3], padding='same')\n",
    "        conv1 = tf.nn.relu(conv1) \n",
    "        conv1 = tf.layers.max_pooling2d(conv1, 2, 2)\n",
    "        conv1 = tf.layers.dropout(conv1, rate=0.25)\n",
    "        \n",
    "        \n",
    "        # Conv2\n",
    "        conv2 = tf.layers.conv2d(inputs=conv1, filters=32, kernel_size=[3,3])\n",
    "        conv2 = tf.nn.relu(conv2) \n",
    "        conv2 = tf.layers.max_pooling2d(conv2, 2, 2)\n",
    "        conv2 = tf.layers.dropout(conv2, rate=0.25)\n",
    "        \n",
    "        # Conv3\n",
    "        conv3 = tf.layers.conv2d(inputs=conv2, filters=64, kernel_size=[3,3], padding='same')\n",
    "        conv3 = tf.nn.relu(conv2) \n",
    "        conv3 = tf.layers.max_pooling2d(conv2, 2, 2)\n",
    "        conv3 = tf.nn.dropout(conv2, rate=0.25)\n",
    "  \n",
    "        flatten = tf.contrib.layers.flatten(conv3)\n",
    "        fc1 = tf.layers.dense(flatten, 512)\n",
    "        fc1 = conv2 = tf.nn.relu(fc1) \n",
    "        fc1 = tf.layers.dropout(fc1, rate=0.25)\n",
    "        \n",
    "        #\n",
    "        out = tf.layers.dense(fc1, n_classes)\n",
    "       \n",
    "        out = tf.nn.softmax(out)\n",
    "                    \n",
    "    return out"
   ]
  },
  {
   "cell_type": "code",
   "execution_count": 8,
   "metadata": {},
   "outputs": [],
   "source": [
    "# Definimos la función del modelo\n",
    "\n",
    "def model_fn(features, labels, mode):\n",
    "    \n",
    "    print(labels)\n",
    "    print(features)\n",
    "    \n",
    "    # Siempre calcular las preds del test\n",
    "    logits = conv_net(features, num_classes, dropout, reuse=False, is_training=True) # train\n",
    "    logits_ = conv_net(features, num_classes, dropout, reuse=True, is_training=False) # test\n",
    "    \n",
    "    print(logits)\n",
    "    print(logits)\n",
    "    \n",
    "    predictions = {\n",
    "      \"classes\": tf.argmax(logits_, axis=1),\n",
    "      \"probabilities\": tf.nn.softmax(logits_)\n",
    "    }\n",
    "        \n",
    "    if mode == tf.estimator.ModeKeys.PREDICT:        \n",
    "        return tf.estimator.EstimatorSpec(mode=mode, predictions=predictions)\n",
    "        \n",
    "    # model.compile(optimizer='adam', loss='categorical_crossentropy', metrics=['accuracy'])\n",
    "    cross_entropy = tf.nn.sparse_softmax_cross_entropy_with_logits( labels=tf.cast(labels, dtype=tf.int32), logits=logits )\n",
    "    cost = tf.reduce_mean(cross_entropy)\n",
    "  \n",
    "    optimizer = tf.train.AdamOptimizer(\n",
    "        learning_rate=learning_rate\n",
    "    )\n",
    "\n",
    "    train_op = optimizer.minimize(\n",
    "        loss = cost,\n",
    "        global_step = tf.train.get_global_step()\n",
    "    )\n",
    "    \n",
    "    eval_metric_ops = {\n",
    "        \"accuracy\": tf.metrics.accuracy(\n",
    "            labels=labels, \n",
    "            predictions=predictions[\"classes\"])\n",
    "    }\n",
    "    \n",
    "    estim_specs = tf.estimator.EstimatorSpec( \n",
    "        mode = mode, \n",
    "        loss = cost, \n",
    "        train_op=train_op,\n",
    "        eval_metric_ops = eval_metric_ops\n",
    "    )\n",
    "    \n",
    "    return estim_specs\n"
   ]
  },
  {
   "cell_type": "code",
   "execution_count": 9,
   "metadata": {},
   "outputs": [
    {
     "name": "stdout",
     "output_type": "stream",
     "text": [
      "INFO:tensorflow:Using default config.\n",
      "WARNING:tensorflow:Using temporary folder as model directory: C:\\Users\\NICOLE~1\\AppData\\Local\\Temp\\tmp6metq0sz\n",
      "INFO:tensorflow:Using config: {'_model_dir': 'C:\\\\Users\\\\NICOLE~1\\\\AppData\\\\Local\\\\Temp\\\\tmp6metq0sz', '_tf_random_seed': None, '_save_summary_steps': 100, '_save_checkpoints_steps': None, '_save_checkpoints_secs': 600, '_session_config': allow_soft_placement: true\n",
      "graph_options {\n",
      "  rewrite_options {\n",
      "    meta_optimizer_iterations: ONE\n",
      "  }\n",
      "}\n",
      ", '_keep_checkpoint_max': 5, '_keep_checkpoint_every_n_hours': 10000, '_log_step_count_steps': 100, '_train_distribute': None, '_device_fn': None, '_protocol': None, '_eval_distribute': None, '_experimental_distribute': None, '_service': None, '_cluster_spec': <tensorflow.python.training.server_lib.ClusterSpec object at 0x00000286783486A0>, '_task_type': 'worker', '_task_id': 0, '_global_id_in_cluster': 0, '_master': '', '_evaluation_master': '', '_is_chief': True, '_num_ps_replicas': 0, '_num_worker_replicas': 1}\n"
     ]
    }
   ],
   "source": [
    "# Estimator construction\n",
    "model = tf.estimator.Estimator(model_fn)"
   ]
  },
  {
   "cell_type": "code",
   "execution_count": 10,
   "metadata": {},
   "outputs": [],
   "source": [
    "\n",
    "# Define the input function for training\n",
    "\n",
    "input_fn = tf.estimator.inputs.numpy_input_fn(\n",
    "    x={'images': x_train }, \n",
    "    y= y_train,\n",
    "    batch_size=batch_size, \n",
    "    num_epochs=None, \n",
    "    shuffle=True\n",
    ")\n"
   ]
  },
  {
   "cell_type": "code",
   "execution_count": 11,
   "metadata": {
    "scrolled": true
   },
   "outputs": [
    {
     "name": "stdout",
     "output_type": "stream",
     "text": [
      "WARNING:tensorflow:From C:\\Users\\dev\\anaconda\\envs\\Tensorflow\\lib\\site-packages\\tensorflow\\python\\framework\\op_def_library.py:263: colocate_with (from tensorflow.python.framework.ops) is deprecated and will be removed in a future version.\n",
      "Instructions for updating:\n",
      "Colocations handled automatically by placer.\n",
      "WARNING:tensorflow:From C:\\Users\\dev\\anaconda\\envs\\Tensorflow\\lib\\site-packages\\tensorflow_estimator\\python\\estimator\\inputs\\queues\\feeding_queue_runner.py:62: QueueRunner.__init__ (from tensorflow.python.training.queue_runner_impl) is deprecated and will be removed in a future version.\n",
      "Instructions for updating:\n",
      "To construct input pipelines, use the `tf.data` module.\n",
      "WARNING:tensorflow:From C:\\Users\\dev\\anaconda\\envs\\Tensorflow\\lib\\site-packages\\tensorflow_estimator\\python\\estimator\\inputs\\queues\\feeding_functions.py:500: add_queue_runner (from tensorflow.python.training.queue_runner_impl) is deprecated and will be removed in a future version.\n",
      "Instructions for updating:\n",
      "To construct input pipelines, use the `tf.data` module.\n",
      "INFO:tensorflow:Calling model_fn.\n",
      "Tensor(\"random_shuffle_queue_DequeueMany:2\", shape=(128,), dtype=uint8, device=/device:CPU:0)\n",
      "{'images': <tf.Tensor 'random_shuffle_queue_DequeueMany:1' shape=(128, 32, 32, 3) dtype=float64>}\n",
      "WARNING:tensorflow:From <ipython-input-7-9256003e0c5d>:9: conv2d (from tensorflow.python.layers.convolutional) is deprecated and will be removed in a future version.\n",
      "Instructions for updating:\n",
      "Use keras.layers.conv2d instead.\n",
      "WARNING:tensorflow:From <ipython-input-7-9256003e0c5d>:11: max_pooling2d (from tensorflow.python.layers.pooling) is deprecated and will be removed in a future version.\n",
      "Instructions for updating:\n",
      "Use keras.layers.max_pooling2d instead.\n",
      "WARNING:tensorflow:From <ipython-input-7-9256003e0c5d>:12: dropout (from tensorflow.python.layers.core) is deprecated and will be removed in a future version.\n",
      "Instructions for updating:\n",
      "Use keras.layers.dropout instead.\n",
      "\n",
      "WARNING: The TensorFlow contrib module will not be included in TensorFlow 2.0.\n",
      "For more information, please see:\n",
      "  * https://github.com/tensorflow/community/blob/master/rfcs/20180907-contrib-sunset.md\n",
      "  * https://github.com/tensorflow/addons\n",
      "If you depend on functionality not listed there, please file an issue.\n",
      "\n",
      "WARNING:tensorflow:From C:\\Users\\dev\\anaconda\\envs\\Tensorflow\\lib\\site-packages\\tensorflow\\contrib\\layers\\python\\layers\\layers.py:1624: flatten (from tensorflow.python.layers.core) is deprecated and will be removed in a future version.\n",
      "Instructions for updating:\n",
      "Use keras.layers.flatten instead.\n",
      "WARNING:tensorflow:From <ipython-input-7-9256003e0c5d>:28: dense (from tensorflow.python.layers.core) is deprecated and will be removed in a future version.\n",
      "Instructions for updating:\n",
      "Use keras.layers.dense instead.\n",
      "Tensor(\"ConvNet/Softmax:0\", shape=(128, 10), dtype=float64)\n",
      "Tensor(\"ConvNet/Softmax:0\", shape=(128, 10), dtype=float64)\n",
      "WARNING:tensorflow:From C:\\Users\\dev\\anaconda\\envs\\Tensorflow\\lib\\site-packages\\tensorflow\\python\\ops\\metrics_impl.py:455: to_float (from tensorflow.python.ops.math_ops) is deprecated and will be removed in a future version.\n",
      "Instructions for updating:\n",
      "Use tf.cast instead.\n",
      "INFO:tensorflow:Done calling model_fn.\n",
      "INFO:tensorflow:Create CheckpointSaverHook.\n",
      "INFO:tensorflow:Graph was finalized.\n",
      "INFO:tensorflow:Running local_init_op.\n",
      "INFO:tensorflow:Done running local_init_op.\n",
      "WARNING:tensorflow:From C:\\Users\\dev\\anaconda\\envs\\Tensorflow\\lib\\site-packages\\tensorflow\\python\\training\\monitored_session.py:809: start_queue_runners (from tensorflow.python.training.queue_runner_impl) is deprecated and will be removed in a future version.\n",
      "Instructions for updating:\n",
      "To construct input pipelines, use the `tf.data` module.\n",
      "INFO:tensorflow:Saving checkpoints for 0 into C:\\Users\\NICOLE~1\\AppData\\Local\\Temp\\tmp6metq0sz\\model.ckpt.\n",
      "INFO:tensorflow:loss = 2.3019272679984577, step = 1\n",
      "INFO:tensorflow:global_step/sec: 3.09324\n",
      "INFO:tensorflow:loss = 2.0940273642725415, step = 101 (32.329 sec)\n",
      "INFO:tensorflow:global_step/sec: 2.88129\n",
      "INFO:tensorflow:loss = 2.07786233362621, step = 201 (34.707 sec)\n",
      "INFO:tensorflow:global_step/sec: 2.72212\n",
      "INFO:tensorflow:loss = 1.9649704401134744, step = 301 (36.736 sec)\n",
      "INFO:tensorflow:global_step/sec: 2.72586\n",
      "INFO:tensorflow:loss = 1.9039145464349057, step = 401 (36.756 sec)\n",
      "INFO:tensorflow:global_step/sec: 2.68278\n",
      "INFO:tensorflow:loss = 1.925856371662201, step = 501 (37.203 sec)\n",
      "INFO:tensorflow:global_step/sec: 2.65275\n",
      "INFO:tensorflow:loss = 2.00138463956009, step = 601 (37.698 sec)\n",
      "INFO:tensorflow:global_step/sec: 2.73122\n",
      "INFO:tensorflow:loss = 1.9751303038345744, step = 701 (36.614 sec)\n",
      "INFO:tensorflow:global_step/sec: 2.67721\n",
      "INFO:tensorflow:loss = 1.8628214830425742, step = 801 (37.423 sec)\n",
      "INFO:tensorflow:global_step/sec: 2.71252\n",
      "INFO:tensorflow:loss = 1.9374511342174818, step = 901 (36.796 sec)\n",
      "INFO:tensorflow:Saving checkpoints for 1000 into C:\\Users\\NICOLE~1\\AppData\\Local\\Temp\\tmp6metq0sz\\model.ckpt.\n",
      "INFO:tensorflow:Loss for final step: 1.8781961127091917.\n"
     ]
    },
    {
     "data": {
      "text/plain": [
       "<tensorflow_estimator.python.estimator.estimator.Estimator at 0x2866ecc23c8>"
      ]
     },
     "execution_count": 11,
     "metadata": {},
     "output_type": "execute_result"
    }
   ],
   "source": [
    "# Train the Model\n",
    "model.train(input_fn, steps=num_steps)"
   ]
  },
  {
   "cell_type": "code",
   "execution_count": 12,
   "metadata": {},
   "outputs": [
    {
     "name": "stdout",
     "output_type": "stream",
     "text": [
      "INFO:tensorflow:Calling model_fn.\n",
      "Tensor(\"random_shuffle_queue_DequeueUpTo:2\", shape=(?,), dtype=int32, device=/device:CPU:0)\n",
      "{'images': <tf.Tensor 'random_shuffle_queue_DequeueUpTo:1' shape=(?, 32, 32, 3) dtype=float64>}\n",
      "Tensor(\"ConvNet/Softmax:0\", shape=(?, 10), dtype=float64)\n",
      "Tensor(\"ConvNet/Softmax:0\", shape=(?, 10), dtype=float64)\n",
      "INFO:tensorflow:Done calling model_fn.\n",
      "INFO:tensorflow:Starting evaluation at 2019-04-26T00:38:25Z\n",
      "INFO:tensorflow:Graph was finalized.\n",
      "WARNING:tensorflow:From C:\\Users\\dev\\anaconda\\envs\\Tensorflow\\lib\\site-packages\\tensorflow\\python\\training\\saver.py:1266: checkpoint_exists (from tensorflow.python.training.checkpoint_management) is deprecated and will be removed in a future version.\n",
      "Instructions for updating:\n",
      "Use standard file APIs to check for files with this prefix.\n",
      "INFO:tensorflow:Restoring parameters from C:\\Users\\NICOLE~1\\AppData\\Local\\Temp\\tmp6metq0sz\\model.ckpt-1000\n",
      "INFO:tensorflow:Running local_init_op.\n",
      "INFO:tensorflow:Done running local_init_op.\n",
      "INFO:tensorflow:Finished evaluation at 2019-04-26-00:38:37\n",
      "INFO:tensorflow:Saving dict for global step 1000: accuracy = 0.5412, global_step = 1000, loss = 1.9133745\n",
      "INFO:tensorflow:Saving 'checkpoint_path' summary for global step 1000: C:\\Users\\NICOLE~1\\AppData\\Local\\Temp\\tmp6metq0sz\\model.ckpt-1000\n"
     ]
    },
    {
     "data": {
      "text/plain": [
       "{'accuracy': 0.5412, 'loss': 1.9133745, 'global_step': 1000}"
      ]
     },
     "execution_count": 12,
     "metadata": {},
     "output_type": "execute_result"
    }
   ],
   "source": [
    "# Evaluate the Model\n",
    "# Define the input function for evaluating\n",
    "input_fn = tf.estimator.inputs.numpy_input_fn(\n",
    "    x={'images': x_test}, y=y_test,\n",
    "    batch_size=batch_size, shuffle=True)\n",
    "\n",
    "# Use the Estimator 'evaluate' method\n",
    "model.evaluate(input_fn)"
   ]
  },
  {
   "cell_type": "code",
   "execution_count": 13,
   "metadata": {},
   "outputs": [
    {
     "name": "stdout",
     "output_type": "stream",
     "text": [
      "INFO:tensorflow:Calling model_fn.\n",
      "None\n",
      "{'images': <tf.Tensor 'fifo_queue_DequeueUpTo:1' shape=(?, 32, 32, 3) dtype=float64>}\n",
      "Tensor(\"ConvNet/Softmax:0\", shape=(?, 10), dtype=float64)\n",
      "Tensor(\"ConvNet/Softmax:0\", shape=(?, 10), dtype=float64)\n",
      "INFO:tensorflow:Done calling model_fn.\n",
      "INFO:tensorflow:Graph was finalized.\n",
      "INFO:tensorflow:Restoring parameters from C:\\Users\\NICOLE~1\\AppData\\Local\\Temp\\tmp6metq0sz\\model.ckpt-1000\n",
      "INFO:tensorflow:Running local_init_op.\n",
      "INFO:tensorflow:Done running local_init_op.\n"
     ]
    }
   ],
   "source": [
    "# Predicción de imágenes simples\n",
    "n_images = 10\n",
    "x_test10 = x_test[:n_images]\n",
    "    \n",
    "input_fn = tf.estimator.inputs.numpy_input_fn(\n",
    "    x={'images': x_test10}, \n",
    "    shuffle=False\n",
    ")\n",
    "\n",
    "# Usamos el modelo para predecir los ejemplos\n",
    "preds = list(model.predict(input_fn))\n"
   ]
  },
  {
   "cell_type": "code",
   "execution_count": 14,
   "metadata": {},
   "outputs": [
    {
     "name": "stdout",
     "output_type": "stream",
     "text": [
      "Predicted: cat | real: cat\n",
      "Predicted: ship | real: ship\n",
      "Predicted: ship | real: ship\n",
      "Predicted: airplane | real: airplane\n",
      "Predicted: deer | real: frog\n",
      "Predicted: frog | real: frog\n",
      "Predicted: automobile | real: automobile\n",
      "Predicted: bird | real: frog\n",
      "Predicted: cat | real: cat\n",
      "Predicted: automobile | real: automobile\n"
     ]
    }
   ],
   "source": [
    "# Las dibujamos\n",
    "for i in range(n_images):\n",
    "    pred = preds[i]['probabilities']\n",
    "    result = np.where(pred == np.amax(pred))[0][0]\n",
    "    print(\"Predicted: %s | real: %s\" % (class_names[result], class_names[y_test[i]]))\n"
   ]
  },
  {
   "cell_type": "markdown",
   "metadata": {},
   "source": [
    "### MODELO 3"
   ]
  },
  {
   "cell_type": "markdown",
   "metadata": {},
   "source": [
    "Realizar una red convolucional de 3 capas, con dropout y max pooling utilizando la librería de\n",
    "KERAS para clasificar imágenes del dataset CIFAR10\n",
    "\n",
    "Calcular la precisión del modelo presentado e intentar que sea > 0.35"
   ]
  },
  {
   "cell_type": "code",
   "execution_count": 1,
   "metadata": {},
   "outputs": [
    {
     "name": "stderr",
     "output_type": "stream",
     "text": [
      "Using TensorFlow backend.\n"
     ]
    }
   ],
   "source": [
    "# Importing basic libraries\n",
    "import matplotlib.pyplot as plt\n",
    "\n",
    "# Importing Keras libraries\n",
    "from keras.datasets import cifar10\n",
    "from keras.utils import to_categorical"
   ]
  },
  {
   "cell_type": "code",
   "execution_count": 2,
   "metadata": {},
   "outputs": [],
   "source": [
    "(X_train, y_train), (X_test, y_test) = cifar10.load_data()\n",
    "X_train, X_test = X_train / 255.0, X_test / 255.0\n",
    "\n",
    "X_train = X_train.reshape(-1,32,32,3)\n",
    "X_test = X_test.reshape(-1,32,32,3)\n",
    "\n",
    "y_train = to_categorical(y_train)\n",
    "y_test = to_categorical(y_test)"
   ]
  },
  {
   "cell_type": "code",
   "execution_count": 3,
   "metadata": {},
   "outputs": [
    {
     "data": {
      "text/plain": [
       "(32, 32, 3)"
      ]
     },
     "execution_count": 3,
     "metadata": {},
     "output_type": "execute_result"
    },
    {
     "data": {
      "image/png": "[encoded data removed]",
      "text/plain": [
       "<Figure size 432x288 with 1 Axes>"
      ]
     },
     "metadata": {
      "needs_background": "light"
     },
     "output_type": "display_data"
    }
   ],
   "source": [
    "# Visualizing\n",
    "plt.imshow(X_train[0])\n",
    "\n",
    "#check image shape\n",
    "X_train[0].shape"
   ]
  },
  {
   "cell_type": "code",
   "execution_count": 4,
   "metadata": {},
   "outputs": [],
   "source": [
    "#reshape data to fit model\n",
    "X_train = X_train.reshape(-1,32,32,3)\n",
    "X_test = X_test.reshape(-1,32,32,3)"
   ]
  },
  {
   "cell_type": "code",
   "execution_count": 5,
   "metadata": {},
   "outputs": [
    {
     "name": "stdout",
     "output_type": "stream",
     "text": [
      "WARNING:tensorflow:From C:\\Users\\dev\\anaconda\\envs\\Keras\\lib\\site-packages\\tensorflow\\python\\framework\\op_def_library.py:263: colocate_with (from tensorflow.python.framework.ops) is deprecated and will be removed in a future version.\n",
      "Instructions for updating:\n",
      "Colocations handled automatically by placer.\n",
      "WARNING:tensorflow:From C:\\Users\\dev\\anaconda\\envs\\Keras\\lib\\site-packages\\keras\\backend\\tensorflow_backend.py:3445: calling dropout (from tensorflow.python.ops.nn_ops) with keep_prob is deprecated and will be removed in a future version.\n",
      "Instructions for updating:\n",
      "Please use `rate` instead of `keep_prob`. Rate should be set to `rate = 1 - keep_prob`.\n"
     ]
    }
   ],
   "source": [
    "# Define the model\n",
    "from keras.models import Sequential\n",
    "from keras.layers import Dense, Dropout, Activation, Flatten\n",
    "from keras.layers import Conv2D, MaxPooling2D\n",
    "\n",
    "model = Sequential()\n",
    "model.add(Conv2D(32, (3, 3), padding='same', input_shape=(32,32,3) ))\n",
    "model.add(Activation('relu'))\n",
    "model.add(MaxPooling2D(pool_size=(2, 2)))\n",
    "model.add(Dropout(rate = 0.25))\n",
    "\n",
    "model.add(Conv2D(32, (3, 3)))\n",
    "model.add(Activation('relu'))\n",
    "model.add(MaxPooling2D(pool_size=(2, 2)))\n",
    "model.add(Dropout(rate = 0.25))\n",
    "\n",
    "model.add(Conv2D(64, (3, 3), padding='same'))\n",
    "model.add(Activation('relu'))\n",
    "model.add(MaxPooling2D(pool_size=(2, 2)))\n",
    "model.add(Dropout(rate = 0.25))\n",
    "\n",
    "model.add(Flatten())\n",
    "model.add(Dense(512))\n",
    "model.add(Activation('relu'))\n",
    "model.add(Dropout(0.5))\n",
    "model.add(Dense(10))\n",
    "model.add(Activation('softmax'))\n"
   ]
  },
  {
   "cell_type": "code",
   "execution_count": 6,
   "metadata": {},
   "outputs": [],
   "source": [
    "# Compilamos el modelo para calcular su acierto\n",
    "\n",
    "model.compile(optimizer='adam', loss='categorical_crossentropy', metrics=['accuracy'])\n"
   ]
  },
  {
   "cell_type": "code",
   "execution_count": 7,
   "metadata": {},
   "outputs": [
    {
     "name": "stdout",
     "output_type": "stream",
     "text": [
      "WARNING:tensorflow:From C:\\Users\\dev\\anaconda\\envs\\Keras\\lib\\site-packages\\tensorflow\\python\\ops\\math_ops.py:3066: to_int32 (from tensorflow.python.ops.math_ops) is deprecated and will be removed in a future version.\n",
      "Instructions for updating:\n",
      "Use tf.cast instead.\n",
      "Train on 50000 samples, validate on 10000 samples\n",
      "Epoch 1/3\n",
      "50000/50000 [==============================] - 111s 2ms/step - loss: 1.6243 - acc: 0.3999 - val_loss: 1.2796 - val_acc: 0.5591\n",
      "Epoch 2/3\n",
      "50000/50000 [==============================] - 116s 2ms/step - loss: 1.2982 - acc: 0.5365 - val_loss: 1.1004 - val_acc: 0.6149\n",
      "Epoch 3/3\n",
      "50000/50000 [==============================] - 118s 2ms/step - loss: 1.1860 - acc: 0.5773 - val_loss: 1.0150 - val_acc: 0.6470\n"
     ]
    }
   ],
   "source": [
    "# Lo entrenamos\n",
    "history = model.fit(X_train, y_train, validation_data=(X_test, y_test), epochs=3)"
   ]
  },
  {
   "cell_type": "code",
   "execution_count": 8,
   "metadata": {},
   "outputs": [
    {
     "data": {
      "image/png": "[encoded data removed]",
      "text/plain": [
       "<Figure size 432x288 with 1 Axes>"
      ]
     },
     "metadata": {
      "needs_background": "light"
     },
     "output_type": "display_data"
    },
    {
     "data": {
      "image/png": "[encoded data removed]",
      "text/plain": [
       "<Figure size 432x288 with 1 Axes>"
      ]
     },
     "metadata": {
      "needs_background": "light"
     },
     "output_type": "display_data"
    }
   ],
   "source": [
    "plt.plot(history.history['acc'])\n",
    "plt.title('Model accuracy')\n",
    "plt.ylabel('Accuracy')\n",
    "plt.xlabel('Epoch')\n",
    "plt.legend(['Train', 'Test'], loc='upper left')\n",
    "plt.show()\n",
    "\n",
    "# Plot training & validation loss values\n",
    "plt.plot(history.history['loss'])\n",
    "plt.title('Model loss')\n",
    "plt.ylabel('Loss')\n",
    "plt.xlabel('Epoch')\n",
    "plt.legend(['Train', 'Test'], loc='upper right')\n",
    "plt.show()"
   ]
  },
  {
   "cell_type": "code",
   "execution_count": 9,
   "metadata": {},
   "outputs": [
    {
     "name": "stdout",
     "output_type": "stream",
     "text": [
      "10000/10000 [==============================] - 9s 867us/step\n"
     ]
    },
    {
     "data": {
      "text/plain": [
       "[1.0150049272537232, 0.647]"
      ]
     },
     "execution_count": 9,
     "metadata": {},
     "output_type": "execute_result"
    }
   ],
   "source": [
    "model.evaluate(X_test, y_test)"
   ]
  },
  {
   "cell_type": "code",
   "execution_count": 10,
   "metadata": {},
   "outputs": [
    {
     "data": {
      "image/png": "[encoded data removed]",
      "text/plain": [
       "<Figure size 432x288 with 1 Axes>"
      ]
     },
     "metadata": {
      "needs_background": "light"
     },
     "output_type": "display_data"
    },
    {
     "name": "stdout",
     "output_type": "stream",
     "text": [
      "0.45195246 5\n",
      "Model prediction: dog\n"
     ]
    },
    {
     "data": {
      "image/png": "[encoded data removed]",
      "text/plain": [
       "<Figure size 432x288 with 1 Axes>"
      ]
     },
     "metadata": {
      "needs_background": "light"
     },
     "output_type": "display_data"
    },
    {
     "name": "stdout",
     "output_type": "stream",
     "text": [
      "0.86324894 8\n",
      "Model prediction: ship\n"
     ]
    },
    {
     "data": {
      "image/png": "[encoded data removed]",
      "text/plain": [
       "<Figure size 432x288 with 1 Axes>"
      ]
     },
     "metadata": {
      "needs_background": "light"
     },
     "output_type": "display_data"
    },
    {
     "name": "stdout",
     "output_type": "stream",
     "text": [
      "0.6677728 8\n",
      "Model prediction: ship\n"
     ]
    },
    {
     "data": {
      "image/png": "[encoded data removed]",
      "text/plain": [
       "<Figure size 432x288 with 1 Axes>"
      ]
     },
     "metadata": {
      "needs_background": "light"
     },
     "output_type": "display_data"
    },
    {
     "name": "stdout",
     "output_type": "stream",
     "text": [
      "0.52125484 0\n",
      "Model prediction: airplane\n"
     ]
    }
   ],
   "source": [
    "import numpy as np\n",
    "class_names = ['airplane', 'automobile', 'bird', 'cat', 'deer', 'dog', 'frog', 'horse', 'ship', 'truck']\n",
    "\n",
    "n_image = 4\n",
    "preds = model.predict(X_test[:n_image])\n",
    "\n",
    "#Print predictions\n",
    "for i in range(n_image):\n",
    "    plt.imshow(X_test[i])\n",
    "    plt.show()\n",
    "    max_pred_val = np.amax(preds[i])\n",
    "    max_pred_val_index = np.where(preds[i] == max_pred_val)[0][0]\n",
    "    print(max_pred_val, max_pred_val_index)\n",
    "    pred_class = class_names[max_pred_val_index]\n",
    "    print(\"Model prediction:\", pred_class)\n",
    "    \n",
    "    "
   ]
  }
 ],
 "metadata": {
  "kernelspec": {
   "display_name": "Python 3",
   "language": "python",
   "name": "python3"
  },
  "language_info": {
   "codemirror_mode": {
    "name": "ipython",
    "version": 3
   },
   "file_extension": ".py",
   "mimetype": "text/x-python",
   "name": "python",
   "nbconvert_exporter": "python",
   "pygments_lexer": "ipython3",
   "version": "3.7.3"
  }
 },
 "nbformat": 4,
 "nbformat_minor": 2
}
