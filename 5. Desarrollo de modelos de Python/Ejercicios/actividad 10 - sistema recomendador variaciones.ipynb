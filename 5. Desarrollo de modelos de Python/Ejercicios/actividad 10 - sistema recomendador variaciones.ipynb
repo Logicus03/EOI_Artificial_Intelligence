{
 "cells": [
  {
   "cell_type": "markdown",
   "metadata": {},
   "source": [
    "# Sistema recomendador\n"
   ]
  },
  {
   "cell_type": "code",
   "execution_count": 1,
   "metadata": {
    "ExecuteTime": {
     "end_time": "2019-03-17T18:06:20.296142Z",
     "start_time": "2019-03-17T18:06:15.778968Z"
    }
   },
   "outputs": [
    {
     "name": "stdout",
     "output_type": "stream",
     "text": [
      "(24983, 101)\n"
     ]
    },
    {
     "data": {
      "text/html": [
       "<div>\n",
       "<style scoped>\n",
       "    .dataframe tbody tr th:only-of-type {\n",
       "        vertical-align: middle;\n",
       "    }\n",
       "\n",
       "    .dataframe tbody tr th {\n",
       "        vertical-align: top;\n",
       "    }\n",
       "\n",
       "    .dataframe thead th {\n",
       "        text-align: right;\n",
       "    }\n",
       "</style>\n",
       "<table border=\"1\" class=\"dataframe\">\n",
       "  <thead>\n",
       "    <tr style=\"text-align: right;\">\n",
       "      <th></th>\n",
       "      <th>0</th>\n",
       "      <th>1</th>\n",
       "      <th>2</th>\n",
       "      <th>3</th>\n",
       "      <th>4</th>\n",
       "      <th>5</th>\n",
       "      <th>6</th>\n",
       "      <th>7</th>\n",
       "      <th>8</th>\n",
       "      <th>9</th>\n",
       "      <th>...</th>\n",
       "      <th>91</th>\n",
       "      <th>92</th>\n",
       "      <th>93</th>\n",
       "      <th>94</th>\n",
       "      <th>95</th>\n",
       "      <th>96</th>\n",
       "      <th>97</th>\n",
       "      <th>98</th>\n",
       "      <th>99</th>\n",
       "      <th>100</th>\n",
       "    </tr>\n",
       "  </thead>\n",
       "  <tbody>\n",
       "    <tr>\n",
       "      <th>0</th>\n",
       "      <td>74</td>\n",
       "      <td>-7.82</td>\n",
       "      <td>8.79</td>\n",
       "      <td>-9.66</td>\n",
       "      <td>-8.16</td>\n",
       "      <td>-7.52</td>\n",
       "      <td>-8.50</td>\n",
       "      <td>-9.85</td>\n",
       "      <td>4.17</td>\n",
       "      <td>-8.98</td>\n",
       "      <td>...</td>\n",
       "      <td>2.82</td>\n",
       "      <td>NaN</td>\n",
       "      <td>NaN</td>\n",
       "      <td>NaN</td>\n",
       "      <td>NaN</td>\n",
       "      <td>NaN</td>\n",
       "      <td>-5.63</td>\n",
       "      <td>NaN</td>\n",
       "      <td>NaN</td>\n",
       "      <td>NaN</td>\n",
       "    </tr>\n",
       "    <tr>\n",
       "      <th>1</th>\n",
       "      <td>100</td>\n",
       "      <td>4.08</td>\n",
       "      <td>-0.29</td>\n",
       "      <td>6.36</td>\n",
       "      <td>4.37</td>\n",
       "      <td>-2.38</td>\n",
       "      <td>-9.66</td>\n",
       "      <td>-0.73</td>\n",
       "      <td>-5.34</td>\n",
       "      <td>8.88</td>\n",
       "      <td>...</td>\n",
       "      <td>2.82</td>\n",
       "      <td>-4.95</td>\n",
       "      <td>-0.29</td>\n",
       "      <td>7.86</td>\n",
       "      <td>-0.19</td>\n",
       "      <td>-2.14</td>\n",
       "      <td>3.06</td>\n",
       "      <td>0.34</td>\n",
       "      <td>-4.32</td>\n",
       "      <td>1.07</td>\n",
       "    </tr>\n",
       "    <tr>\n",
       "      <th>2</th>\n",
       "      <td>49</td>\n",
       "      <td>NaN</td>\n",
       "      <td>NaN</td>\n",
       "      <td>NaN</td>\n",
       "      <td>NaN</td>\n",
       "      <td>9.03</td>\n",
       "      <td>9.27</td>\n",
       "      <td>9.03</td>\n",
       "      <td>9.27</td>\n",
       "      <td>NaN</td>\n",
       "      <td>...</td>\n",
       "      <td>NaN</td>\n",
       "      <td>NaN</td>\n",
       "      <td>NaN</td>\n",
       "      <td>9.08</td>\n",
       "      <td>NaN</td>\n",
       "      <td>NaN</td>\n",
       "      <td>NaN</td>\n",
       "      <td>NaN</td>\n",
       "      <td>NaN</td>\n",
       "      <td>NaN</td>\n",
       "    </tr>\n",
       "  </tbody>\n",
       "</table>\n",
       "<p>3 rows × 101 columns</p>\n",
       "</div>"
      ],
      "text/plain": [
       "   0     1     2     3     4     5     6     7     8     9    ...   91    92   \\\n",
       "0   74 -7.82  8.79 -9.66 -8.16 -7.52 -8.50 -9.85  4.17 -8.98  ...  2.82   NaN   \n",
       "1  100  4.08 -0.29  6.36  4.37 -2.38 -9.66 -0.73 -5.34  8.88  ...  2.82 -4.95   \n",
       "2   49   NaN   NaN   NaN   NaN  9.03  9.27  9.03  9.27   NaN  ...   NaN   NaN   \n",
       "\n",
       "    93    94    95    96    97    98    99    100  \n",
       "0   NaN   NaN   NaN   NaN -5.63   NaN   NaN   NaN  \n",
       "1 -0.29  7.86 -0.19 -2.14  3.06  0.34 -4.32  1.07  \n",
       "2   NaN  9.08   NaN   NaN   NaN   NaN   NaN   NaN  \n",
       "\n",
       "[3 rows x 101 columns]"
      ]
     },
     "execution_count": 1,
     "metadata": {},
     "output_type": "execute_result"
    }
   ],
   "source": [
    "#abrimos el archivo, \n",
    "import pandas as pd\n",
    "import numpy as np\n",
    "\n",
    "dat=pd.read_excel('jester-data-1.xls',header=None,na_values=[99,99.0])\n",
    "#vemos que la dimensión coincide con lo que el enunciado comenta\n",
    "print(dat.shape)\n",
    "dat.head(3)"
   ]
  },
  {
   "cell_type": "code",
   "execution_count": 2,
   "metadata": {
    "ExecuteTime": {
     "end_time": "2019-03-17T18:06:20.305929Z",
     "start_time": "2019-03-17T18:06:20.297463Z"
    }
   },
   "outputs": [],
   "source": [
    "dat.drop(0,axis=1,inplace=True)"
   ]
  },
  {
   "cell_type": "code",
   "execution_count": 3,
   "metadata": {
    "ExecuteTime": {
     "end_time": "2019-03-17T18:06:20.335778Z",
     "start_time": "2019-03-17T18:06:20.306774Z"
    }
   },
   "outputs": [
    {
     "data": {
      "text/html": [
       "<div>\n",
       "<style scoped>\n",
       "    .dataframe tbody tr th:only-of-type {\n",
       "        vertical-align: middle;\n",
       "    }\n",
       "\n",
       "    .dataframe tbody tr th {\n",
       "        vertical-align: top;\n",
       "    }\n",
       "\n",
       "    .dataframe thead th {\n",
       "        text-align: right;\n",
       "    }\n",
       "</style>\n",
       "<table border=\"1\" class=\"dataframe\">\n",
       "  <thead>\n",
       "    <tr style=\"text-align: right;\">\n",
       "      <th></th>\n",
       "      <th>1</th>\n",
       "      <th>2</th>\n",
       "      <th>3</th>\n",
       "      <th>4</th>\n",
       "      <th>5</th>\n",
       "      <th>6</th>\n",
       "      <th>7</th>\n",
       "      <th>8</th>\n",
       "      <th>9</th>\n",
       "      <th>10</th>\n",
       "      <th>...</th>\n",
       "      <th>91</th>\n",
       "      <th>92</th>\n",
       "      <th>93</th>\n",
       "      <th>94</th>\n",
       "      <th>95</th>\n",
       "      <th>96</th>\n",
       "      <th>97</th>\n",
       "      <th>98</th>\n",
       "      <th>99</th>\n",
       "      <th>100</th>\n",
       "    </tr>\n",
       "  </thead>\n",
       "  <tbody>\n",
       "    <tr>\n",
       "      <th>0</th>\n",
       "      <td>-7.82</td>\n",
       "      <td>8.79</td>\n",
       "      <td>-9.66</td>\n",
       "      <td>-8.16</td>\n",
       "      <td>-7.52</td>\n",
       "      <td>-8.50</td>\n",
       "      <td>-9.85</td>\n",
       "      <td>4.17</td>\n",
       "      <td>-8.98</td>\n",
       "      <td>-4.76</td>\n",
       "      <td>...</td>\n",
       "      <td>2.82</td>\n",
       "      <td>NaN</td>\n",
       "      <td>NaN</td>\n",
       "      <td>NaN</td>\n",
       "      <td>NaN</td>\n",
       "      <td>NaN</td>\n",
       "      <td>-5.63</td>\n",
       "      <td>NaN</td>\n",
       "      <td>NaN</td>\n",
       "      <td>NaN</td>\n",
       "    </tr>\n",
       "    <tr>\n",
       "      <th>1</th>\n",
       "      <td>4.08</td>\n",
       "      <td>-0.29</td>\n",
       "      <td>6.36</td>\n",
       "      <td>4.37</td>\n",
       "      <td>-2.38</td>\n",
       "      <td>-9.66</td>\n",
       "      <td>-0.73</td>\n",
       "      <td>-5.34</td>\n",
       "      <td>8.88</td>\n",
       "      <td>9.22</td>\n",
       "      <td>...</td>\n",
       "      <td>2.82</td>\n",
       "      <td>-4.95</td>\n",
       "      <td>-0.29</td>\n",
       "      <td>7.86</td>\n",
       "      <td>-0.19</td>\n",
       "      <td>-2.14</td>\n",
       "      <td>3.06</td>\n",
       "      <td>0.34</td>\n",
       "      <td>-4.32</td>\n",
       "      <td>1.07</td>\n",
       "    </tr>\n",
       "    <tr>\n",
       "      <th>2</th>\n",
       "      <td>NaN</td>\n",
       "      <td>NaN</td>\n",
       "      <td>NaN</td>\n",
       "      <td>NaN</td>\n",
       "      <td>9.03</td>\n",
       "      <td>9.27</td>\n",
       "      <td>9.03</td>\n",
       "      <td>9.27</td>\n",
       "      <td>NaN</td>\n",
       "      <td>NaN</td>\n",
       "      <td>...</td>\n",
       "      <td>NaN</td>\n",
       "      <td>NaN</td>\n",
       "      <td>NaN</td>\n",
       "      <td>9.08</td>\n",
       "      <td>NaN</td>\n",
       "      <td>NaN</td>\n",
       "      <td>NaN</td>\n",
       "      <td>NaN</td>\n",
       "      <td>NaN</td>\n",
       "      <td>NaN</td>\n",
       "    </tr>\n",
       "    <tr>\n",
       "      <th>3</th>\n",
       "      <td>NaN</td>\n",
       "      <td>8.35</td>\n",
       "      <td>NaN</td>\n",
       "      <td>NaN</td>\n",
       "      <td>1.80</td>\n",
       "      <td>8.16</td>\n",
       "      <td>-2.82</td>\n",
       "      <td>6.21</td>\n",
       "      <td>NaN</td>\n",
       "      <td>1.84</td>\n",
       "      <td>...</td>\n",
       "      <td>NaN</td>\n",
       "      <td>NaN</td>\n",
       "      <td>NaN</td>\n",
       "      <td>0.53</td>\n",
       "      <td>NaN</td>\n",
       "      <td>NaN</td>\n",
       "      <td>NaN</td>\n",
       "      <td>NaN</td>\n",
       "      <td>NaN</td>\n",
       "      <td>NaN</td>\n",
       "    </tr>\n",
       "    <tr>\n",
       "      <th>4</th>\n",
       "      <td>8.50</td>\n",
       "      <td>4.61</td>\n",
       "      <td>-4.17</td>\n",
       "      <td>-5.39</td>\n",
       "      <td>1.36</td>\n",
       "      <td>1.60</td>\n",
       "      <td>7.04</td>\n",
       "      <td>4.61</td>\n",
       "      <td>-0.44</td>\n",
       "      <td>5.73</td>\n",
       "      <td>...</td>\n",
       "      <td>5.19</td>\n",
       "      <td>5.58</td>\n",
       "      <td>4.27</td>\n",
       "      <td>5.19</td>\n",
       "      <td>5.73</td>\n",
       "      <td>1.55</td>\n",
       "      <td>3.11</td>\n",
       "      <td>6.55</td>\n",
       "      <td>1.80</td>\n",
       "      <td>1.60</td>\n",
       "    </tr>\n",
       "  </tbody>\n",
       "</table>\n",
       "<p>5 rows × 100 columns</p>\n",
       "</div>"
      ],
      "text/plain": [
       "    1     2     3     4     5     6     7     8     9     10   ...   91   \\\n",
       "0 -7.82  8.79 -9.66 -8.16 -7.52 -8.50 -9.85  4.17 -8.98 -4.76  ...  2.82   \n",
       "1  4.08 -0.29  6.36  4.37 -2.38 -9.66 -0.73 -5.34  8.88  9.22  ...  2.82   \n",
       "2   NaN   NaN   NaN   NaN  9.03  9.27  9.03  9.27   NaN   NaN  ...   NaN   \n",
       "3   NaN  8.35   NaN   NaN  1.80  8.16 -2.82  6.21   NaN  1.84  ...   NaN   \n",
       "4  8.50  4.61 -4.17 -5.39  1.36  1.60  7.04  4.61 -0.44  5.73  ...  5.19   \n",
       "\n",
       "    92    93    94    95    96    97    98    99    100  \n",
       "0   NaN   NaN   NaN   NaN   NaN -5.63   NaN   NaN   NaN  \n",
       "1 -4.95 -0.29  7.86 -0.19 -2.14  3.06  0.34 -4.32  1.07  \n",
       "2   NaN   NaN  9.08   NaN   NaN   NaN   NaN   NaN   NaN  \n",
       "3   NaN   NaN  0.53   NaN   NaN   NaN   NaN   NaN   NaN  \n",
       "4  5.58  4.27  5.19  5.73  1.55  3.11  6.55  1.80  1.60  \n",
       "\n",
       "[5 rows x 100 columns]"
      ]
     },
     "execution_count": 3,
     "metadata": {},
     "output_type": "execute_result"
    }
   ],
   "source": [
    "dat.head()"
   ]
  },
  {
   "cell_type": "code",
   "execution_count": 4,
   "metadata": {
    "ExecuteTime": {
     "end_time": "2019-03-17T18:06:20.369805Z",
     "start_time": "2019-03-17T18:06:20.337077Z"
    }
   },
   "outputs": [
    {
     "data": {
      "text/plain": [
       "count    24983.000000\n",
       "mean        72.467478\n",
       "std         21.859600\n",
       "min         36.000000\n",
       "0%          36.000000\n",
       "10%         42.000000\n",
       "20%         48.000000\n",
       "30.0%       58.000000\n",
       "40%         70.000000\n",
       "50%         72.000000\n",
       "60.0%       74.000000\n",
       "70%         95.000000\n",
       "80%        100.000000\n",
       "90%        100.000000\n",
       "100%       100.000000\n",
       "max        100.000000\n",
       "dtype: float64"
      ]
     },
     "execution_count": 4,
     "metadata": {},
     "output_type": "execute_result"
    }
   ],
   "source": [
    "dat.notnull().sum(axis=1).describe(percentiles=np.linspace(0, 1, 11))"
   ]
  },
  {
   "cell_type": "code",
   "execution_count": 5,
   "metadata": {
    "ExecuteTime": {
     "end_time": "2019-03-17T18:06:20.403085Z",
     "start_time": "2019-03-17T18:06:20.371047Z"
    }
   },
   "outputs": [
    {
     "data": {
      "text/plain": [
       "0.27532522115038227"
      ]
     },
     "execution_count": 5,
     "metadata": {},
     "output_type": "execute_result"
    }
   ],
   "source": [
    "dat.isnull().sum().sum() / dat.shape[0] / dat.shape[1]"
   ]
  },
  {
   "cell_type": "code",
   "execution_count": 6,
   "metadata": {
    "ExecuteTime": {
     "end_time": "2019-03-17T18:06:20.418545Z",
     "start_time": "2019-03-17T18:06:20.403955Z"
    }
   },
   "outputs": [
    {
     "data": {
      "text/html": [
       "<div>\n",
       "<style scoped>\n",
       "    .dataframe tbody tr th:only-of-type {\n",
       "        vertical-align: middle;\n",
       "    }\n",
       "\n",
       "    .dataframe tbody tr th {\n",
       "        vertical-align: top;\n",
       "    }\n",
       "\n",
       "    .dataframe thead th {\n",
       "        text-align: right;\n",
       "    }\n",
       "</style>\n",
       "<table border=\"1\" class=\"dataframe\">\n",
       "  <thead>\n",
       "    <tr style=\"text-align: right;\">\n",
       "      <th></th>\n",
       "      <th>1</th>\n",
       "      <th>2</th>\n",
       "      <th>3</th>\n",
       "      <th>4</th>\n",
       "      <th>5</th>\n",
       "      <th>6</th>\n",
       "      <th>7</th>\n",
       "      <th>8</th>\n",
       "      <th>9</th>\n",
       "      <th>10</th>\n",
       "      <th>...</th>\n",
       "      <th>91</th>\n",
       "      <th>92</th>\n",
       "      <th>93</th>\n",
       "      <th>94</th>\n",
       "      <th>95</th>\n",
       "      <th>96</th>\n",
       "      <th>97</th>\n",
       "      <th>98</th>\n",
       "      <th>99</th>\n",
       "      <th>100</th>\n",
       "    </tr>\n",
       "  </thead>\n",
       "  <tbody>\n",
       "    <tr>\n",
       "      <th>0</th>\n",
       "      <td>1</td>\n",
       "      <td>1</td>\n",
       "      <td>1</td>\n",
       "      <td>1</td>\n",
       "      <td>1</td>\n",
       "      <td>1</td>\n",
       "      <td>1</td>\n",
       "      <td>1</td>\n",
       "      <td>1</td>\n",
       "      <td>1</td>\n",
       "      <td>...</td>\n",
       "      <td>1</td>\n",
       "      <td>0</td>\n",
       "      <td>0</td>\n",
       "      <td>0</td>\n",
       "      <td>0</td>\n",
       "      <td>0</td>\n",
       "      <td>1</td>\n",
       "      <td>0</td>\n",
       "      <td>0</td>\n",
       "      <td>0</td>\n",
       "    </tr>\n",
       "    <tr>\n",
       "      <th>1</th>\n",
       "      <td>1</td>\n",
       "      <td>1</td>\n",
       "      <td>1</td>\n",
       "      <td>1</td>\n",
       "      <td>1</td>\n",
       "      <td>1</td>\n",
       "      <td>1</td>\n",
       "      <td>1</td>\n",
       "      <td>1</td>\n",
       "      <td>1</td>\n",
       "      <td>...</td>\n",
       "      <td>1</td>\n",
       "      <td>1</td>\n",
       "      <td>1</td>\n",
       "      <td>1</td>\n",
       "      <td>1</td>\n",
       "      <td>1</td>\n",
       "      <td>1</td>\n",
       "      <td>1</td>\n",
       "      <td>1</td>\n",
       "      <td>1</td>\n",
       "    </tr>\n",
       "  </tbody>\n",
       "</table>\n",
       "<p>2 rows × 100 columns</p>\n",
       "</div>"
      ],
      "text/plain": [
       "   1    2    3    4    5    6    7    8    9    10   ...  91   92   93   94   \\\n",
       "0    1    1    1    1    1    1    1    1    1    1  ...    1    0    0    0   \n",
       "1    1    1    1    1    1    1    1    1    1    1  ...    1    1    1    1   \n",
       "\n",
       "   95   96   97   98   99   100  \n",
       "0    0    0    1    0    0    0  \n",
       "1    1    1    1    1    1    1  \n",
       "\n",
       "[2 rows x 100 columns]"
      ]
     },
     "execution_count": 6,
     "metadata": {},
     "output_type": "execute_result"
    }
   ],
   "source": [
    "dat_sim = dat.notnull().astype('int')\n",
    "dat_sim.head(2)"
   ]
  },
  {
   "cell_type": "code",
   "execution_count": 7,
   "metadata": {
    "ExecuteTime": {
     "end_time": "2019-03-17T18:06:20.451204Z",
     "start_time": "2019-03-17T18:06:20.419414Z"
    }
   },
   "outputs": [
    {
     "data": {
      "text/plain": [
       "0.7246747788496178"
      ]
     },
     "execution_count": 7,
     "metadata": {},
     "output_type": "execute_result"
    }
   ],
   "source": [
    "dat.notnull().sum().sum()/dat.shape[0]/dat.shape[1]"
   ]
  },
  {
   "cell_type": "code",
   "execution_count": 8,
   "metadata": {
    "ExecuteTime": {
     "end_time": "2019-03-17T18:06:20.462259Z",
     "start_time": "2019-03-17T18:06:20.452067Z"
    }
   },
   "outputs": [
    {
     "data": {
      "text/plain": [
       "0   -3.431892\n",
       "1    2.746300\n",
       "2    7.099388\n",
       "3    2.658125\n",
       "4    3.252637\n",
       "dtype: float64"
      ]
     },
     "execution_count": 8,
     "metadata": {},
     "output_type": "execute_result"
    }
   ],
   "source": [
    "dat.mean(axis=1).head()"
   ]
  },
  {
   "cell_type": "code",
   "execution_count": 9,
   "metadata": {
    "ExecuteTime": {
     "end_time": "2019-03-17T18:06:21.230157Z",
     "start_time": "2019-03-17T18:06:20.463088Z"
    }
   },
   "outputs": [
    {
     "data": {
      "image/png": "[encoded data removed]",
      "text/plain": [
       "<Figure size 432x288 with 1 Axes>"
      ]
     },
     "metadata": {
      "needs_background": "light"
     },
     "output_type": "display_data"
    }
   ],
   "source": [
    "%matplotlib inline\n",
    "dat.mean(axis=1).plot.kde();"
   ]
  },
  {
   "cell_type": "code",
   "execution_count": 10,
   "metadata": {
    "ExecuteTime": {
     "end_time": "2019-03-17T18:06:21.329348Z",
     "start_time": "2019-03-17T18:06:21.231117Z"
    }
   },
   "outputs": [
    {
     "data": {
      "image/png": "[encoded data removed]",
      "text/plain": [
       "<Figure size 432x288 with 1 Axes>"
      ]
     },
     "metadata": {
      "needs_background": "light"
     },
     "output_type": "display_data"
    }
   ],
   "source": [
    "dat.mean(axis=0).plot.kde();"
   ]
  },
  {
   "cell_type": "code",
   "execution_count": 11,
   "metadata": {
    "ExecuteTime": {
     "end_time": "2019-03-17T18:06:21.340473Z",
     "start_time": "2019-03-17T18:06:21.330563Z"
    }
   },
   "outputs": [
    {
     "data": {
      "text/plain": [
       "(24983,)"
      ]
     },
     "execution_count": 11,
     "metadata": {},
     "output_type": "execute_result"
    }
   ],
   "source": [
    "dat.mean(axis=1).shape"
   ]
  },
  {
   "cell_type": "code",
   "execution_count": 12,
   "metadata": {
    "ExecuteTime": {
     "end_time": "2019-03-17T18:06:34.774410Z",
     "start_time": "2019-03-17T18:06:25.258272Z"
    },
    "scrolled": true
   },
   "outputs": [
    {
     "data": {
      "text/html": [
       "<div>\n",
       "<style scoped>\n",
       "    .dataframe tbody tr th:only-of-type {\n",
       "        vertical-align: middle;\n",
       "    }\n",
       "\n",
       "    .dataframe tbody tr th {\n",
       "        vertical-align: top;\n",
       "    }\n",
       "\n",
       "    .dataframe thead th {\n",
       "        text-align: right;\n",
       "    }\n",
       "</style>\n",
       "<table border=\"1\" class=\"dataframe\">\n",
       "  <thead>\n",
       "    <tr style=\"text-align: right;\">\n",
       "      <th></th>\n",
       "      <th>0</th>\n",
       "      <th>1</th>\n",
       "      <th>2</th>\n",
       "      <th>3</th>\n",
       "      <th>4</th>\n",
       "      <th>5</th>\n",
       "      <th>6</th>\n",
       "      <th>7</th>\n",
       "      <th>8</th>\n",
       "      <th>9</th>\n",
       "      <th>...</th>\n",
       "      <th>24973</th>\n",
       "      <th>24974</th>\n",
       "      <th>24975</th>\n",
       "      <th>24976</th>\n",
       "      <th>24977</th>\n",
       "      <th>24978</th>\n",
       "      <th>24979</th>\n",
       "      <th>24980</th>\n",
       "      <th>24981</th>\n",
       "      <th>24982</th>\n",
       "    </tr>\n",
       "  </thead>\n",
       "  <tbody>\n",
       "    <tr>\n",
       "      <th>0</th>\n",
       "      <td>0.0</td>\n",
       "      <td>-0.898885</td>\n",
       "      <td>3.223562</td>\n",
       "      <td>-1.249259</td>\n",
       "      <td>-1.083980</td>\n",
       "      <td>-1.353026</td>\n",
       "      <td>-1.270445</td>\n",
       "      <td>-1.227540</td>\n",
       "      <td>1.915923</td>\n",
       "      <td>-2.268868</td>\n",
       "      <td>...</td>\n",
       "      <td>0.0</td>\n",
       "      <td>0.0</td>\n",
       "      <td>0.0</td>\n",
       "      <td>0.0</td>\n",
       "      <td>0.0</td>\n",
       "      <td>0.0</td>\n",
       "      <td>0.0</td>\n",
       "      <td>0.0</td>\n",
       "      <td>0.0</td>\n",
       "      <td>0.0</td>\n",
       "    </tr>\n",
       "    <tr>\n",
       "      <th>1</th>\n",
       "      <td>0.0</td>\n",
       "      <td>0.273203</td>\n",
       "      <td>-0.800834</td>\n",
       "      <td>0.724850</td>\n",
       "      <td>0.372254</td>\n",
       "      <td>-1.696632</td>\n",
       "      <td>-3.109942</td>\n",
       "      <td>-0.664884</td>\n",
       "      <td>-2.038010</td>\n",
       "      <td>2.508342</td>\n",
       "      <td>...</td>\n",
       "      <td>0.0</td>\n",
       "      <td>0.0</td>\n",
       "      <td>0.0</td>\n",
       "      <td>0.0</td>\n",
       "      <td>0.0</td>\n",
       "      <td>0.0</td>\n",
       "      <td>0.0</td>\n",
       "      <td>0.0</td>\n",
       "      <td>0.0</td>\n",
       "      <td>0.0</td>\n",
       "    </tr>\n",
       "    <tr>\n",
       "      <th>2</th>\n",
       "      <td>0.0</td>\n",
       "      <td>0.000000</td>\n",
       "      <td>0.000000</td>\n",
       "      <td>0.000000</td>\n",
       "      <td>0.000000</td>\n",
       "      <td>0.638967</td>\n",
       "      <td>0.544117</td>\n",
       "      <td>0.369253</td>\n",
       "      <td>0.547065</td>\n",
       "      <td>0.000000</td>\n",
       "      <td>...</td>\n",
       "      <td>0.0</td>\n",
       "      <td>0.0</td>\n",
       "      <td>0.0</td>\n",
       "      <td>0.0</td>\n",
       "      <td>0.0</td>\n",
       "      <td>0.0</td>\n",
       "      <td>0.0</td>\n",
       "      <td>0.0</td>\n",
       "      <td>0.0</td>\n",
       "      <td>0.0</td>\n",
       "    </tr>\n",
       "    <tr>\n",
       "      <th>3</th>\n",
       "      <td>0.0</td>\n",
       "      <td>0.000000</td>\n",
       "      <td>1.501250</td>\n",
       "      <td>0.000000</td>\n",
       "      <td>0.000000</td>\n",
       "      <td>-0.284010</td>\n",
       "      <td>1.379179</td>\n",
       "      <td>-1.047757</td>\n",
       "      <td>0.895188</td>\n",
       "      <td>0.000000</td>\n",
       "      <td>...</td>\n",
       "      <td>0.0</td>\n",
       "      <td>0.0</td>\n",
       "      <td>0.0</td>\n",
       "      <td>0.0</td>\n",
       "      <td>0.0</td>\n",
       "      <td>0.0</td>\n",
       "      <td>0.0</td>\n",
       "      <td>0.0</td>\n",
       "      <td>0.0</td>\n",
       "      <td>0.0</td>\n",
       "    </tr>\n",
       "    <tr>\n",
       "      <th>4</th>\n",
       "      <td>0.0</td>\n",
       "      <td>1.074900</td>\n",
       "      <td>0.358009</td>\n",
       "      <td>-1.488862</td>\n",
       "      <td>-1.981436</td>\n",
       "      <td>-0.626399</td>\n",
       "      <td>-0.414274</td>\n",
       "      <td>0.724379</td>\n",
       "      <td>0.342099</td>\n",
       "      <td>-1.510083</td>\n",
       "      <td>...</td>\n",
       "      <td>0.0</td>\n",
       "      <td>0.0</td>\n",
       "      <td>0.0</td>\n",
       "      <td>0.0</td>\n",
       "      <td>0.0</td>\n",
       "      <td>0.0</td>\n",
       "      <td>0.0</td>\n",
       "      <td>0.0</td>\n",
       "      <td>0.0</td>\n",
       "      <td>0.0</td>\n",
       "    </tr>\n",
       "  </tbody>\n",
       "</table>\n",
       "<p>5 rows × 24983 columns</p>\n",
       "</div>"
      ],
      "text/plain": [
       "   0         1         2         3         4         5         6      \\\n",
       "0    0.0 -0.898885  3.223562 -1.249259 -1.083980 -1.353026 -1.270445   \n",
       "1    0.0  0.273203 -0.800834  0.724850  0.372254 -1.696632 -3.109942   \n",
       "2    0.0  0.000000  0.000000  0.000000  0.000000  0.638967  0.544117   \n",
       "3    0.0  0.000000  1.501250  0.000000  0.000000 -0.284010  1.379179   \n",
       "4    0.0  1.074900  0.358009 -1.488862 -1.981436 -0.626399 -0.414274   \n",
       "\n",
       "      7         8         9      ...  24973  24974  24975  24976  24977  \\\n",
       "0 -1.227540  1.915923 -2.268868  ...    0.0    0.0    0.0    0.0    0.0   \n",
       "1 -0.664884 -2.038010  2.508342  ...    0.0    0.0    0.0    0.0    0.0   \n",
       "2  0.369253  0.547065  0.000000  ...    0.0    0.0    0.0    0.0    0.0   \n",
       "3 -1.047757  0.895188  0.000000  ...    0.0    0.0    0.0    0.0    0.0   \n",
       "4  0.724379  0.342099 -1.510083  ...    0.0    0.0    0.0    0.0    0.0   \n",
       "\n",
       "   24978  24979  24980  24981  24982  \n",
       "0    0.0    0.0    0.0    0.0    0.0  \n",
       "1    0.0    0.0    0.0    0.0    0.0  \n",
       "2    0.0    0.0    0.0    0.0    0.0  \n",
       "3    0.0    0.0    0.0    0.0    0.0  \n",
       "4    0.0    0.0    0.0    0.0    0.0  \n",
       "\n",
       "[5 rows x 24983 columns]"
      ]
     },
     "execution_count": 12,
     "metadata": {},
     "output_type": "execute_result"
    }
   ],
   "source": [
    "dat = (dat.subtract(dat.mean(axis=1), \n",
    "                   axis='index').div(dat.std(axis=1)))\n",
    "dat.fillna(0, inplace=True)\n",
    "dat.head()"
   ]
  },
  {
   "cell_type": "code",
   "execution_count": 14,
   "metadata": {
    "ExecuteTime": {
     "end_time": "2019-03-17T18:07:11.722168Z",
     "start_time": "2019-03-17T18:07:11.717834Z"
    }
   },
   "outputs": [
    {
     "data": {
      "text/plain": [
       "(24983, 24983)"
      ]
     },
     "execution_count": 14,
     "metadata": {},
     "output_type": "execute_result"
    }
   ],
   "source": [
    "dat.shape"
   ]
  },
  {
   "cell_type": "code",
   "execution_count": 15,
   "metadata": {
    "ExecuteTime": {
     "end_time": "2019-03-17T18:07:26.715417Z",
     "start_time": "2019-03-17T18:07:26.389651Z"
    }
   },
   "outputs": [],
   "source": [
    "from scipy.spatial.distance import jaccard\n",
    "from sklearn.metrics import jaccard_similarity_score"
   ]
  },
  {
   "cell_type": "code",
   "execution_count": 16,
   "metadata": {
    "ExecuteTime": {
     "end_time": "2019-03-17T18:08:07.431648Z",
     "start_time": "2019-03-17T18:08:07.427166Z"
    }
   },
   "outputs": [],
   "source": [
    "import numpy as np\n",
    "a = np.random.randint(0,2,1000)\n",
    "b = np.random.randint(0,2,1000)"
   ]
  },
  {
   "cell_type": "code",
   "execution_count": 18,
   "metadata": {
    "ExecuteTime": {
     "end_time": "2019-03-17T18:08:18.188752Z",
     "start_time": "2019-03-17T18:08:18.183932Z"
    }
   },
   "outputs": [],
   "source": [
    "# %timeit jaccard(a,b)"
   ]
  },
  {
   "cell_type": "code",
   "execution_count": 19,
   "metadata": {
    "ExecuteTime": {
     "end_time": "2019-03-17T18:08:23.181447Z",
     "start_time": "2019-03-17T18:08:23.176710Z"
    }
   },
   "outputs": [],
   "source": [
    "# %timeit jaccard_similarity_score(a,b)"
   ]
  },
  {
   "cell_type": "code",
   "execution_count": 20,
   "metadata": {
    "ExecuteTime": {
     "end_time": "2019-03-17T18:08:31.891184Z",
     "start_time": "2019-03-17T18:08:31.887734Z"
    }
   },
   "outputs": [
    {
     "data": {
      "text/plain": [
       "8"
      ]
     },
     "execution_count": 20,
     "metadata": {},
     "output_type": "execute_result"
    }
   ],
   "source": [
    "f = lambda x,y:x+y\n",
    "f(3,5)"
   ]
  },
  {
   "cell_type": "code",
   "execution_count": 21,
   "metadata": {
    "ExecuteTime": {
     "end_time": "2019-03-17T18:08:52.592112Z",
     "start_time": "2019-03-17T18:08:52.589802Z"
    }
   },
   "outputs": [],
   "source": [
    "from functools import partial\n",
    "\n",
    "g = partial(f,y=2)"
   ]
  },
  {
   "cell_type": "code",
   "execution_count": 22,
   "metadata": {
    "ExecuteTime": {
     "end_time": "2019-03-17T18:08:57.499034Z",
     "start_time": "2019-03-17T18:08:57.494097Z"
    }
   },
   "outputs": [
    {
     "data": {
      "text/plain": [
       "5"
      ]
     },
     "execution_count": 22,
     "metadata": {},
     "output_type": "execute_result"
    }
   ],
   "source": [
    "g(3)"
   ]
  },
  {
   "cell_type": "code",
   "execution_count": 24,
   "metadata": {
    "ExecuteTime": {
     "end_time": "2019-03-17T18:10:02.049066Z",
     "start_time": "2019-03-17T18:10:02.044429Z"
    }
   },
   "outputs": [
    {
     "data": {
      "text/plain": [
       "0.26"
      ]
     },
     "execution_count": 24,
     "metadata": {},
     "output_type": "execute_result"
    }
   ],
   "source": [
    "g = partial(jaccard, v=dat_sim.iloc[0])\n",
    "\n",
    "g(dat_sim.loc[1])"
   ]
  },
  {
   "cell_type": "code",
   "execution_count": 25,
   "metadata": {
    "ExecuteTime": {
     "end_time": "2019-03-17T18:10:26.591866Z",
     "start_time": "2019-03-17T18:10:26.586799Z"
    }
   },
   "outputs": [],
   "source": [
    "from functools import partial\n",
    "from scipy.spatial.distance import jaccard\n",
    "\n",
    "def JacSim(X,x):    \n",
    "    g = partial(jaccard, v=x)\n",
    "    return 1 - X.apply(g, axis=1)"
   ]
  },
  {
   "cell_type": "code",
   "execution_count": 26,
   "metadata": {
    "ExecuteTime": {
     "end_time": "2019-03-17T18:10:28.868340Z",
     "start_time": "2019-03-17T18:10:27.255644Z"
    }
   },
   "outputs": [
    {
     "data": {
      "text/plain": [
       "0    1.000000\n",
       "1    0.740000\n",
       "2    0.576923\n",
       "3    0.584416\n",
       "4    0.793478\n",
       "5    0.740000\n",
       "6    0.551282\n",
       "7    0.740000\n",
       "8    0.740000\n",
       "9    0.921053\n",
       "dtype: float64"
      ]
     },
     "execution_count": 26,
     "metadata": {},
     "output_type": "execute_result"
    }
   ],
   "source": [
    "JacSim(dat_sim, dat_sim.loc[0])[:10]"
   ]
  },
  {
   "cell_type": "code",
   "execution_count": 28,
   "metadata": {
    "ExecuteTime": {
     "end_time": "2019-03-17T18:11:50.350559Z",
     "start_time": "2019-03-17T18:11:50.345084Z"
    }
   },
   "outputs": [],
   "source": [
    "from functools import partial\n",
    "from scipy.spatial.distance import jaccard\n",
    "from scipy.spatial.distance import cosine\n",
    "\n",
    "coseno = lambda u,v:np.abs((cosine(u,v)-2)/2)\n",
    "\n",
    "def CosSim(X,x):\n",
    "    g = partial(coseno, v=x)\n",
    "    return X.apply(g, axis=1)    "
   ]
  },
  {
   "cell_type": "code",
   "execution_count": 29,
   "metadata": {
    "ExecuteTime": {
     "end_time": "2019-03-17T18:12:17.492801Z",
     "start_time": "2019-03-17T18:12:02.392225Z"
    }
   },
   "outputs": [
    {
     "data": {
      "text/plain": [
       "0    1.000000\n",
       "1    0.385736\n",
       "2    0.616058\n",
       "3    0.814719\n",
       "4    0.426645\n",
       "dtype: float64"
      ]
     },
     "execution_count": 29,
     "metadata": {},
     "output_type": "execute_result"
    }
   ],
   "source": [
    "CosSim(dat, dat.loc[0])[:5]"
   ]
  },
  {
   "cell_type": "code",
   "execution_count": 30,
   "metadata": {
    "ExecuteTime": {
     "end_time": "2019-03-17T18:12:49.082642Z",
     "start_time": "2019-03-17T18:12:49.058643Z"
    }
   },
   "outputs": [],
   "source": [
    "from sklearn.model_selection import train_test_split"
   ]
  },
  {
   "cell_type": "code",
   "execution_count": 31,
   "metadata": {
    "ExecuteTime": {
     "end_time": "2019-03-17T18:12:51.996061Z",
     "start_time": "2019-03-17T18:12:50.069142Z"
    }
   },
   "outputs": [],
   "source": [
    "X_train , X_test = train_test_split(dat,test_size=0.1,random_state=0)\n",
    "X_sim_train , X_sim_test = train_test_split(dat_sim,test_size=0.1,random_state=0)"
   ]
  },
  {
   "cell_type": "code",
   "execution_count": 32,
   "metadata": {
    "ExecuteTime": {
     "end_time": "2019-03-17T18:12:55.931167Z",
     "start_time": "2019-03-17T18:12:55.926700Z"
    }
   },
   "outputs": [
    {
     "data": {
      "text/plain": [
       "((22484, 24983), (2499, 24983))"
      ]
     },
     "execution_count": 32,
     "metadata": {},
     "output_type": "execute_result"
    }
   ],
   "source": [
    "X_train.shape , X_test.shape"
   ]
  },
  {
   "cell_type": "markdown",
   "metadata": {
    "heading_collapsed": true
   },
   "source": [
    "# Creamos un recomendador basado en clusters"
   ]
  },
  {
   "cell_type": "code",
   "execution_count": 23,
   "metadata": {
    "hidden": true
   },
   "outputs": [],
   "source": [
    "from sklearn.cluster import KMeans\n",
    "import numpy as np\n",
    "import pandas as pd\n",
    "\n",
    "distorsion = []\n",
    "\n",
    "for k in np.arange(1,15):\n",
    "    km = KMeans(k,n_jobs=-1,random_state=0)\n",
    "    distorsion.append(km.fit(X_train).inertia_)"
   ]
  },
  {
   "cell_type": "code",
   "execution_count": 24,
   "metadata": {
    "hidden": true
   },
   "outputs": [
    {
     "data": {
      "image/png": "[encoded data removed]",
      "text/plain": [
       "<matplotlib.figure.Figure at 0x7f758acb5a90>"
      ]
     },
     "metadata": {},
     "output_type": "display_data"
    }
   ],
   "source": [
    "import seaborn as sns\n",
    "import matplotlib.pyplot as plt\n",
    "%matplotlib inline\n",
    "\n",
    "diferencias = np.concatenate((np.array([0]),-np.diff(distorsion)))\n",
    "\n",
    "plt.plot(np.arange(1,15),distorsion,'--o',linewidth=2);\n",
    "plt.plot(np.arange(1,15),diferencias,'-o')\n",
    "plt.xticks(np.arange(1,15));"
   ]
  },
  {
   "cell_type": "code",
   "execution_count": 25,
   "metadata": {
    "hidden": true
   },
   "outputs": [
    {
     "data": {
      "text/plain": [
       "KMeans(algorithm='auto', copy_x=True, init='k-means++', max_iter=500,\n",
       "    n_clusters=5, n_init=20, n_jobs=-1, precompute_distances='auto',\n",
       "    random_state=0, tol=0.0001, verbose=0)"
      ]
     },
     "execution_count": 25,
     "metadata": {},
     "output_type": "execute_result"
    }
   ],
   "source": [
    "km =  KMeans(5,n_init= 20, max_iter=500,random_state=0,n_jobs=-1)\n",
    "km.fit(X_train)"
   ]
  },
  {
   "cell_type": "code",
   "execution_count": 26,
   "metadata": {
    "hidden": true
   },
   "outputs": [
    {
     "data": {
      "text/plain": [
       "array([-1.43120397, -1.00918554, -1.67866418, -3.12121144,  0.470615  ,\n",
       "        1.65980339, -1.07157077, -1.83876671, -3.7651544 , -1.35238527,\n",
       "        1.27534824,  1.89126482, -2.67408781,  2.06387275, -3.32885478,\n",
       "       -5.36282995, -0.81121625, -2.17593643,  0.02516907, -0.92354194,\n",
       "        3.01763824, -0.29171572, -1.89151979, -4.54536628, -0.54186065,\n",
       "        1.91309953,  3.92173788,  1.44156921,  3.71695348, -2.0243269 ,\n",
       "        3.04996265,  3.76581586, -3.32748875,  0.76814682,  3.48395348,\n",
       "        3.54418054, -4.30511228, -0.31921577,  1.46014125,  0.47549988,\n",
       "       -2.24216105,  2.68828407, -3.67271869, -5.96874974,  0.29356586,\n",
       "        1.16621452,  1.68242043,  1.81014843,  3.49132962,  4.21002458,\n",
       "       -1.16436249, -0.26478699,  3.84822412,  3.61813417, -1.85269718,\n",
       "        2.1168388 , -5.41811664, -6.36931436, -2.37134731, -3.85014044,\n",
       "        3.24918283,  3.25624935, -1.01636439, -3.39006896,  3.10069282,\n",
       "        2.91922182, -3.92718691,  3.07942426,  3.13990072, -0.46744026,\n",
       "       -0.80112321,  1.46633397,  0.66139728, -1.33842173, -0.42301406,\n",
       "        1.17264744,  0.31415118,  0.93070761,  0.1721097 ,  0.91332007,\n",
       "        0.82201796, -0.15032072,  1.30682566, -0.1548188 ,  0.33142803,\n",
       "       -1.34999882,  0.63227874,  0.45965711,  1.89127007, -0.1866014 ,\n",
       "        0.35972558,  0.14618828,  1.1522812 , -0.80904906, -0.50351932,\n",
       "        0.03994397,  0.13652083,  0.80115988, -0.77728978,  0.9362348 ])"
      ]
     },
     "execution_count": 26,
     "metadata": {},
     "output_type": "execute_result"
    }
   ],
   "source": [
    "km.cluster_centers_[4]"
   ]
  },
  {
   "cell_type": "code",
   "execution_count": 48,
   "metadata": {
    "hidden": true
   },
   "outputs": [
    {
     "data": {
      "text/plain": [
       "array([2], dtype=int32)"
      ]
     },
     "execution_count": 48,
     "metadata": {},
     "output_type": "execute_result"
    }
   ],
   "source": [
    "km.predict(X_test.iloc[0,:].values.reshape(1, -1) )"
   ]
  },
  {
   "cell_type": "code",
   "execution_count": 28,
   "metadata": {
    "hidden": true
   },
   "outputs": [
    {
     "data": {
      "text/plain": [
       "array([49, 26, 52, 31, 28, 53, 35, 48, 34, 61, 60, 68, 64, 67, 30, 20, 65,\n",
       "       41, 55, 13, 25, 88, 11, 47, 46,  5, 71, 38, 27, 82, 10, 75, 45, 92,\n",
       "       99, 77, 79, 80, 97, 33, 72, 86, 39,  4, 87, 90, 84, 76, 44, 78, 91,\n",
       "       96, 95, 18, 81, 83, 89, 51, 21, 37, 74, 69, 94, 24, 98, 70, 93, 16,\n",
       "       19,  1, 62,  6, 50, 73, 85,  9,  0,  2,  7, 54, 22, 29, 17, 40, 58,\n",
       "       12,  3, 32, 14, 63, 42,  8, 59, 66, 36, 23, 15, 56, 43, 57])"
      ]
     },
     "execution_count": 28,
     "metadata": {},
     "output_type": "execute_result"
    }
   ],
   "source": [
    "np.argsort(km.cluster_centers_[4])[::-1]"
   ]
  },
  {
   "cell_type": "code",
   "execution_count": 29,
   "metadata": {
    "hidden": true
   },
   "outputs": [],
   "source": [
    "# np.mean(dat.drop(0,axis=1)).sort_values(ascending=False)"
   ]
  },
  {
   "cell_type": "markdown",
   "metadata": {},
   "source": [
    "# Creamos la clase sistema recomendador"
   ]
  },
  {
   "cell_type": "code",
   "execution_count": 33,
   "metadata": {
    "ExecuteTime": {
     "end_time": "2019-03-17T18:14:15.556146Z",
     "start_time": "2019-03-17T18:14:11.206807Z"
    }
   },
   "outputs": [],
   "source": [
    "dat = pd.read_excel('jester-data-1.xls',header=None,na_values=[99,99.0])\n",
    "dat.drop(0,axis=1,inplace=True)"
   ]
  },
  {
   "cell_type": "code",
   "execution_count": 34,
   "metadata": {
    "ExecuteTime": {
     "end_time": "2019-03-17T18:14:15.559494Z",
     "start_time": "2019-03-17T18:14:15.557389Z"
    }
   },
   "outputs": [],
   "source": [
    "x = dat.loc[5]"
   ]
  },
  {
   "cell_type": "code",
   "execution_count": 46,
   "metadata": {
    "ExecuteTime": {
     "end_time": "2019-03-17T18:23:47.105921Z",
     "start_time": "2019-03-17T18:23:47.101061Z"
    }
   },
   "outputs": [],
   "source": [
    "from functools import partial\n",
    "from scipy.spatial.distance import jaccard\n",
    "\n",
    "def JacSim(X,x):    \n",
    "    g = partial(jaccard, v=x)\n",
    "    return 1 - X.apply(g, axis=1)"
   ]
  },
  {
   "cell_type": "code",
   "execution_count": 47,
   "metadata": {
    "ExecuteTime": {
     "end_time": "2019-03-17T18:23:47.666323Z",
     "start_time": "2019-03-17T18:23:47.660700Z"
    }
   },
   "outputs": [],
   "source": [
    "from functools import partial\n",
    "from scipy.spatial.distance import jaccard\n",
    "from scipy.spatial.distance import cosine\n",
    "\n",
    "coseno = lambda u,v:np.abs((cosine(u,v)-2)/2)\n",
    "\n",
    "def CosSim(X,x):\n",
    "    g = partial(coseno, v=x)\n",
    "    return X.apply(g, axis=1)  "
   ]
  },
  {
   "cell_type": "code",
   "execution_count": 55,
   "metadata": {
    "ExecuteTime": {
     "end_time": "2019-03-17T18:25:24.812278Z",
     "start_time": "2019-03-17T18:25:24.790505Z"
    }
   },
   "outputs": [],
   "source": [
    "import pandas as pd\n",
    "import numpy as np\n",
    "\n",
    "class Ninja_Rec():\n",
    "    \"\"\"hola\"\"\"\n",
    "    \n",
    "    def __init__(self,dat):\n",
    "        \"\"\" Recibe un dataframe de entrenamiento\"\"\"\n",
    "        self.X_dat = dat.copy()\n",
    "        self.X_sim = dat.notnull().astype('int')\n",
    "        self.X = (dat.subtract(dat.mean(axis=1), axis='index')                     \n",
    "                     .fillna(0))\n",
    "        \n",
    "    def __call__(self, k, x, n_recs):\n",
    "        \"\"\"recibe k vecinos, una serie x con el mismo índice que las columnas de X,\n",
    "        n_recs, \"\"\"\n",
    "        \n",
    "        x_sim = x.notnull().astype('int')\n",
    "        x = (x - x.mean()).fillna(0)\n",
    "        \n",
    "        jaccard_ = JacSim(self.X_sim, x_sim)\n",
    "        cos_ = CosSim(self.X, x)\n",
    "        \n",
    "        similarity = (jaccard_ * cos_).sort_values(ascending=False)\n",
    "        k_souls_index = similarity[similarity<1].index[:k]        \n",
    "        \n",
    "        recs = (self.X.loc[k_souls_index, x_sim[x_sim==0].index]\n",
    "                     .mean()\n",
    "                     .sort_values(ascending=False))\n",
    "        \n",
    "        recs = recs[:n_recs]\n",
    "        \n",
    "        return recs"
   ]
  },
  {
   "cell_type": "code",
   "execution_count": 56,
   "metadata": {
    "ExecuteTime": {
     "end_time": "2019-03-17T18:25:25.168453Z",
     "start_time": "2019-03-17T18:25:25.152372Z"
    }
   },
   "outputs": [
    {
     "data": {
      "text/html": [
       "<div>\n",
       "<style scoped>\n",
       "    .dataframe tbody tr th:only-of-type {\n",
       "        vertical-align: middle;\n",
       "    }\n",
       "\n",
       "    .dataframe tbody tr th {\n",
       "        vertical-align: top;\n",
       "    }\n",
       "\n",
       "    .dataframe thead th {\n",
       "        text-align: right;\n",
       "    }\n",
       "</style>\n",
       "<table border=\"1\" class=\"dataframe\">\n",
       "  <thead>\n",
       "    <tr style=\"text-align: right;\">\n",
       "      <th></th>\n",
       "      <th>1</th>\n",
       "      <th>2</th>\n",
       "      <th>3</th>\n",
       "      <th>4</th>\n",
       "      <th>5</th>\n",
       "      <th>6</th>\n",
       "      <th>7</th>\n",
       "      <th>8</th>\n",
       "      <th>9</th>\n",
       "      <th>10</th>\n",
       "      <th>...</th>\n",
       "      <th>91</th>\n",
       "      <th>92</th>\n",
       "      <th>93</th>\n",
       "      <th>94</th>\n",
       "      <th>95</th>\n",
       "      <th>96</th>\n",
       "      <th>97</th>\n",
       "      <th>98</th>\n",
       "      <th>99</th>\n",
       "      <th>100</th>\n",
       "    </tr>\n",
       "  </thead>\n",
       "  <tbody>\n",
       "    <tr>\n",
       "      <th>0</th>\n",
       "      <td>-7.82</td>\n",
       "      <td>8.79</td>\n",
       "      <td>-9.66</td>\n",
       "      <td>-8.16</td>\n",
       "      <td>-7.52</td>\n",
       "      <td>-8.50</td>\n",
       "      <td>-9.85</td>\n",
       "      <td>4.17</td>\n",
       "      <td>-8.98</td>\n",
       "      <td>-4.76</td>\n",
       "      <td>...</td>\n",
       "      <td>2.82</td>\n",
       "      <td>NaN</td>\n",
       "      <td>NaN</td>\n",
       "      <td>NaN</td>\n",
       "      <td>NaN</td>\n",
       "      <td>NaN</td>\n",
       "      <td>-5.63</td>\n",
       "      <td>NaN</td>\n",
       "      <td>NaN</td>\n",
       "      <td>NaN</td>\n",
       "    </tr>\n",
       "    <tr>\n",
       "      <th>1</th>\n",
       "      <td>4.08</td>\n",
       "      <td>-0.29</td>\n",
       "      <td>6.36</td>\n",
       "      <td>4.37</td>\n",
       "      <td>-2.38</td>\n",
       "      <td>-9.66</td>\n",
       "      <td>-0.73</td>\n",
       "      <td>-5.34</td>\n",
       "      <td>8.88</td>\n",
       "      <td>9.22</td>\n",
       "      <td>...</td>\n",
       "      <td>2.82</td>\n",
       "      <td>-4.95</td>\n",
       "      <td>-0.29</td>\n",
       "      <td>7.86</td>\n",
       "      <td>-0.19</td>\n",
       "      <td>-2.14</td>\n",
       "      <td>3.06</td>\n",
       "      <td>0.34</td>\n",
       "      <td>-4.32</td>\n",
       "      <td>1.07</td>\n",
       "    </tr>\n",
       "    <tr>\n",
       "      <th>2</th>\n",
       "      <td>NaN</td>\n",
       "      <td>NaN</td>\n",
       "      <td>NaN</td>\n",
       "      <td>NaN</td>\n",
       "      <td>9.03</td>\n",
       "      <td>9.27</td>\n",
       "      <td>9.03</td>\n",
       "      <td>9.27</td>\n",
       "      <td>NaN</td>\n",
       "      <td>NaN</td>\n",
       "      <td>...</td>\n",
       "      <td>NaN</td>\n",
       "      <td>NaN</td>\n",
       "      <td>NaN</td>\n",
       "      <td>9.08</td>\n",
       "      <td>NaN</td>\n",
       "      <td>NaN</td>\n",
       "      <td>NaN</td>\n",
       "      <td>NaN</td>\n",
       "      <td>NaN</td>\n",
       "      <td>NaN</td>\n",
       "    </tr>\n",
       "    <tr>\n",
       "      <th>3</th>\n",
       "      <td>NaN</td>\n",
       "      <td>8.35</td>\n",
       "      <td>NaN</td>\n",
       "      <td>NaN</td>\n",
       "      <td>1.80</td>\n",
       "      <td>8.16</td>\n",
       "      <td>-2.82</td>\n",
       "      <td>6.21</td>\n",
       "      <td>NaN</td>\n",
       "      <td>1.84</td>\n",
       "      <td>...</td>\n",
       "      <td>NaN</td>\n",
       "      <td>NaN</td>\n",
       "      <td>NaN</td>\n",
       "      <td>0.53</td>\n",
       "      <td>NaN</td>\n",
       "      <td>NaN</td>\n",
       "      <td>NaN</td>\n",
       "      <td>NaN</td>\n",
       "      <td>NaN</td>\n",
       "      <td>NaN</td>\n",
       "    </tr>\n",
       "    <tr>\n",
       "      <th>4</th>\n",
       "      <td>8.50</td>\n",
       "      <td>4.61</td>\n",
       "      <td>-4.17</td>\n",
       "      <td>-5.39</td>\n",
       "      <td>1.36</td>\n",
       "      <td>1.60</td>\n",
       "      <td>7.04</td>\n",
       "      <td>4.61</td>\n",
       "      <td>-0.44</td>\n",
       "      <td>5.73</td>\n",
       "      <td>...</td>\n",
       "      <td>5.19</td>\n",
       "      <td>5.58</td>\n",
       "      <td>4.27</td>\n",
       "      <td>5.19</td>\n",
       "      <td>5.73</td>\n",
       "      <td>1.55</td>\n",
       "      <td>3.11</td>\n",
       "      <td>6.55</td>\n",
       "      <td>1.80</td>\n",
       "      <td>1.60</td>\n",
       "    </tr>\n",
       "  </tbody>\n",
       "</table>\n",
       "<p>5 rows × 100 columns</p>\n",
       "</div>"
      ],
      "text/plain": [
       "    1     2     3     4     5     6     7     8     9     10   ...   91   \\\n",
       "0 -7.82  8.79 -9.66 -8.16 -7.52 -8.50 -9.85  4.17 -8.98 -4.76  ...  2.82   \n",
       "1  4.08 -0.29  6.36  4.37 -2.38 -9.66 -0.73 -5.34  8.88  9.22  ...  2.82   \n",
       "2   NaN   NaN   NaN   NaN  9.03  9.27  9.03  9.27   NaN   NaN  ...   NaN   \n",
       "3   NaN  8.35   NaN   NaN  1.80  8.16 -2.82  6.21   NaN  1.84  ...   NaN   \n",
       "4  8.50  4.61 -4.17 -5.39  1.36  1.60  7.04  4.61 -0.44  5.73  ...  5.19   \n",
       "\n",
       "    92    93    94    95    96    97    98    99    100  \n",
       "0   NaN   NaN   NaN   NaN   NaN -5.63   NaN   NaN   NaN  \n",
       "1 -4.95 -0.29  7.86 -0.19 -2.14  3.06  0.34 -4.32  1.07  \n",
       "2   NaN   NaN  9.08   NaN   NaN   NaN   NaN   NaN   NaN  \n",
       "3   NaN   NaN  0.53   NaN   NaN   NaN   NaN   NaN   NaN  \n",
       "4  5.58  4.27  5.19  5.73  1.55  3.11  6.55  1.80  1.60  \n",
       "\n",
       "[5 rows x 100 columns]"
      ]
     },
     "execution_count": 56,
     "metadata": {},
     "output_type": "execute_result"
    }
   ],
   "source": [
    "dat.head()"
   ]
  },
  {
   "cell_type": "code",
   "execution_count": 57,
   "metadata": {
    "ExecuteTime": {
     "end_time": "2019-03-17T18:25:25.329435Z",
     "start_time": "2019-03-17T18:25:25.298358Z"
    }
   },
   "outputs": [],
   "source": [
    "rec = Ninja_Rec(dat)"
   ]
  },
  {
   "cell_type": "code",
   "execution_count": 58,
   "metadata": {
    "ExecuteTime": {
     "end_time": "2019-03-17T18:25:25.540674Z",
     "start_time": "2019-03-17T18:25:25.534433Z"
    }
   },
   "outputs": [],
   "source": [
    "x = dat.loc[12]"
   ]
  },
  {
   "cell_type": "code",
   "execution_count": 59,
   "metadata": {
    "ExecuteTime": {
     "end_time": "2019-03-17T18:25:26.368909Z",
     "start_time": "2019-03-17T18:25:26.363727Z"
    }
   },
   "outputs": [
    {
     "data": {
      "text/plain": [
       "53"
      ]
     },
     "execution_count": 59,
     "metadata": {},
     "output_type": "execute_result"
    }
   ],
   "source": [
    "x.isnull().sum()"
   ]
  },
  {
   "cell_type": "code",
   "execution_count": 60,
   "metadata": {
    "ExecuteTime": {
     "end_time": "2019-03-17T18:25:27.138468Z",
     "start_time": "2019-03-17T18:25:27.132562Z"
    }
   },
   "outputs": [
    {
     "data": {
      "text/plain": [
       "1      NaN\n",
       "2      NaN\n",
       "3      NaN\n",
       "4      NaN\n",
       "5     5.87\n",
       "6      NaN\n",
       "7     5.58\n",
       "8     0.53\n",
       "9      NaN\n",
       "10    7.14\n",
       "11    7.04\n",
       "12     NaN\n",
       "13    3.74\n",
       "14    7.04\n",
       "15   -4.85\n",
       "16   -4.85\n",
       "17   -5.34\n",
       "18    2.04\n",
       "19    5.58\n",
       "20    5.58\n",
       "21    8.01\n",
       "22     NaN\n",
       "23   -0.87\n",
       "24     NaN\n",
       "25    3.98\n",
       "26     NaN\n",
       "27    7.67\n",
       "28    7.04\n",
       "29    7.52\n",
       "30     NaN\n",
       "Name: 12, dtype: float64"
      ]
     },
     "execution_count": 60,
     "metadata": {},
     "output_type": "execute_result"
    }
   ],
   "source": [
    "x.head(30)"
   ]
  },
  {
   "cell_type": "markdown",
   "metadata": {},
   "source": [
    "El 72% de la matriz está rellena"
   ]
  },
  {
   "cell_type": "code",
   "execution_count": 61,
   "metadata": {
    "ExecuteTime": {
     "end_time": "2019-03-17T18:25:28.698865Z",
     "start_time": "2019-03-17T18:25:28.666649Z"
    }
   },
   "outputs": [
    {
     "data": {
      "text/plain": [
       "0.7246747788496177"
      ]
     },
     "execution_count": 61,
     "metadata": {},
     "output_type": "execute_result"
    }
   ],
   "source": [
    "dat.notnull().sum().sum() / dat.size"
   ]
  },
  {
   "cell_type": "code",
   "execution_count": 64,
   "metadata": {
    "ExecuteTime": {
     "end_time": "2019-03-17T18:26:26.246537Z",
     "start_time": "2019-03-17T18:26:22.823457Z"
    }
   },
   "outputs": [
    {
     "data": {
      "text/plain": [
       "26    1.030396\n",
       "40    0.969460\n",
       "34    0.863945\n",
       "22    0.692104\n",
       "6     0.433073\n",
       "3     0.358525\n",
       "55    0.327565\n",
       "85    0.278976\n",
       "30    0.277471\n",
       "41    0.249736\n",
       "72    0.217806\n",
       "2     0.163525\n",
       "dtype: float64"
      ]
     },
     "execution_count": 64,
     "metadata": {},
     "output_type": "execute_result"
    }
   ],
   "source": [
    "rec(10, x, 12)"
   ]
  },
  {
   "cell_type": "code",
   "execution_count": 65,
   "metadata": {
    "ExecuteTime": {
     "end_time": "2019-03-17T18:26:29.697591Z",
     "start_time": "2019-03-17T18:26:26.247664Z"
    }
   },
   "outputs": [
    {
     "data": {
      "text/plain": [
       "26    0.889040\n",
       "12    0.878409\n",
       "40    0.465092\n",
       "22    0.311536\n",
       "34    0.299500\n",
       "55    0.215746\n",
       "89    0.196662\n",
       "72    0.163229\n",
       "52    0.109881\n",
       "6     0.107884\n",
       "dtype: float64"
      ]
     },
     "execution_count": 65,
     "metadata": {},
     "output_type": "execute_result"
    }
   ],
   "source": [
    "rec(100, x, 10)"
   ]
  }
 ],
 "metadata": {
  "anaconda-cloud": {},
  "hide_input": false,
  "kernelspec": {
   "display_name": "Python 3",
   "language": "python",
   "name": "python3"
  },
  "language_info": {
   "codemirror_mode": {
    "name": "ipython",
    "version": 3
   },
   "file_extension": ".py",
   "mimetype": "text/x-python",
   "name": "python",
   "nbconvert_exporter": "python",
   "pygments_lexer": "ipython3",
   "version": "3.7.1"
  },
  "toc": {
   "base_numbering": 1,
   "nav_menu": {
    "height": "82px",
    "width": "252px"
   },
   "number_sections": true,
   "sideBar": true,
   "skip_h1_title": false,
   "title_cell": "Table of Contents",
   "title_sidebar": "Contents",
   "toc_cell": false,
   "toc_position": {
    "height": "calc(100% - 180px)",
    "left": "10px",
    "top": "150px",
    "width": "210.286px"
   },
   "toc_section_display": "block",
   "toc_window_display": true
  },
  "varInspector": {
   "cols": {
    "lenName": 16,
    "lenType": 16,
    "lenVar": 40
   },
   "kernels_config": {
    "python": {
     "delete_cmd_postfix": "",
     "delete_cmd_prefix": "del ",
     "library": "var_list.py",
     "varRefreshCmd": "print(var_dic_list())"
    },
    "r": {
     "delete_cmd_postfix": ") ",
     "delete_cmd_prefix": "rm(",
     "library": "var_list.r",
     "varRefreshCmd": "cat(var_dic_list()) "
    }
   },
   "types_to_exclude": [
    "module",
    "function",
    "builtin_function_or_method",
    "instance",
    "_Feature"
   ],
   "window_display": false
  }
 },
 "nbformat": 4,
 "nbformat_minor": 1
}
